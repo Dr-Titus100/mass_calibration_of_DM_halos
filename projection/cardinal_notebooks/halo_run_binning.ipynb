{
 "cells": [
  {
   "cell_type": "code",
   "execution_count": 1,
   "id": "4d63a62d",
   "metadata": {
    "tags": []
   },
   "outputs": [],
   "source": [
    "import fitsio\n",
    "import numpy as np\n",
    "import pandas as pd\n",
    "from astropy.table import Table\n",
    "from astropy.table import join\n",
    "\n",
    "h = 0.7\n",
    "\n",
    "file_path = r\"/bsuhome/tnde/Lensing/data/\""
   ]
  },
  {
   "cell_type": "markdown",
   "id": "3dc02614",
   "metadata": {},
   "source": [
    "# Load the halos with the DS and Sigma profiles (Corrected File)"
   ]
  },
  {
   "cell_type": "code",
   "execution_count": 2,
   "id": "6afcbf26-ce3a-4dc6-9f2f-f19e2f2bff51",
   "metadata": {},
   "outputs": [
    {
     "name": "stdout",
     "output_type": "stream",
     "text": [
      "1318651\n",
      "[0.65, 0.200001]\n",
      "[2723.626, 0.44586278766825865]\n",
      "<TableColumns names=('haloid','Mvir','RA','DEC','Redshift','Rvir','cosi','pid','rs','M200m','R200m','rho','DeltaSigma','Sigma','gtall','weightall','ratio','delta')>\n"
     ]
    },
    {
     "data": {
      "text/html": [
       "<div><i>Table length=5</i>\n",
       "<table id=\"table140729587370400\" class=\"table-striped table-bordered table-condensed\">\n",
       "<thead><tr><th>haloid</th><th>Mvir</th><th>RA</th><th>DEC</th><th>Redshift</th><th>Rvir</th><th>cosi</th><th>pid</th><th>rs</th><th>M200m</th><th>R200m</th><th>rho</th><th>DeltaSigma</th><th>Sigma</th><th>gtall</th><th>weightall</th><th>ratio</th><th>delta</th></tr></thead>\n",
       "<thead><tr><th>int32</th><th>float32</th><th>float64</th><th>float64</th><th>float64</th><th>float64</th><th>float64</th><th>int32</th><th>float64</th><th>float32</th><th>float64</th><th>float64[10]</th><th>float64[15]</th><th>float64[15]</th><th>float64[15]</th><th>float64[15]</th><th>float64[100]</th><th>float64[100]</th></tr></thead>\n",
       "<tr><td>12905996</td><td>1104000000000000.0</td><td>116.599</td><td>18.9969</td><td>0.62517</td><td>2.1563340659340655</td><td>0.464765</td><td>-1</td><td>0.377642</td><td>1129788000000000.0</td><td>2.57077</td><td>3232607803046852.0 .. 4951584885294.114</td><td>316.9408371320344 .. 6.325628131473273</td><td>2481.5244498274756 .. 30.791595507189847</td><td>-2.0638824814096005e-05 .. 0.6538981002611183</td><td>2.6673175421036414e-07 .. 0.0691232562888688</td><td>8.064741778139222 .. 1.0457879038100961</td><td>287.8731346185066 .. 5.31543402099229</td></tr>\n",
       "<tr><td>35142654</td><td>963800000000000.0</td><td>12.3843</td><td>15.0544</td><td>0.62133</td><td>2.0602021978021976</td><td>0.673965</td><td>-1</td><td>0.409137</td><td>991244500000000.0</td><td>2.46113</td><td>1.1785172540359254e+16 .. 8011401459616.633</td><td>321.1758248373751 .. 4.446756445143821</td><td>2919.779680906132 .. 30.02479995711836</td><td>0.0 .. 0.1991121235725387</td><td>0.0 .. 0.06996756822056328</td><td>8.109481193785157 .. 1.0461027816248183</td><td>287.34227585727774 .. 5.351987610686462</td></tr>\n",
       "<tr><td>18168985</td><td>684900000000000.0</td><td>105.984</td><td>37.5753</td><td>0.624004</td><td>1.83905934065934</td><td>0.303402</td><td>-1</td><td>0.453041</td><td>716756000000000.0</td><td>2.20896</td><td>6752437518712852.0 .. 6507767830265.735</td><td>275.6312307653308 .. 1.077348987048755</td><td>1307.4281132949923 .. 24.436777237130247</td><td>3.249494607732e-05 .. -0.4110064147176141</td><td>1.935636181807703e-07 .. 0.045596211225709116</td><td>8.078284478291293 .. 1.0458832178808715</td><td>287.7124427336747 .. 5.326498857167794</td></tr>\n",
       "<tr><td>25086666</td><td>622400000000000.0</td><td>79.5485</td><td>17.0951</td><td>0.621697</td><td>1.7808263736263732</td><td>0.292845</td><td>-1</td><td>0.516649</td><td>646103600000000.0</td><td>2.13357</td><td>4540572459218548.0 .. 5335539180106.598</td><td>-272.74319917472246 .. 4.639230714133832</td><td>1585.1105782444804 .. 30.24452767885626</td><td>5.812510298272736e-05 .. 0.07036336975025734</td><td>3.678071065972682e-07 .. 0.06765867643987916</td><td>10.47001112395602 .. 1.085947576709258</td><td>175.47785545631078 .. 5.513249062307372</td></tr>\n",
       "<tr><td>9757402</td><td>608300000000000.0</td><td>172.89</td><td>42.8772</td><td>0.629086</td><td>1.7687472527472525</td><td>0.039409</td><td>-1</td><td>0.245139</td><td>628887200000000.0</td><td>2.11488</td><td>9110820848357404.0 .. 5247903714057.773</td><td>40.00081122741733 .. 0.5387828084394365</td><td>1606.6561706237633 .. 22.384248053705083</td><td>-4.970286588776491e-05 .. -0.19988896661684516</td><td>1.883852082676027e-07 .. 0.06559499054621185</td><td>10.622833978017232 .. 1.0848228605758334</td><td>175.5979769869793 .. 5.441102290922053</td></tr>\n",
       "</table></div>"
      ],
      "text/plain": [
       "<Table length=5>\n",
       " haloid         Mvir        ...                  delta                 \n",
       " int32        float32       ...               float64[100]             \n",
       "-------- ------------------ ... ---------------------------------------\n",
       "12905996 1104000000000000.0 ...   287.8731346185066 .. 5.31543402099229\n",
       "35142654  963800000000000.0 ... 287.34227585727774 .. 5.351987610686462\n",
       "18168985  684900000000000.0 ...  287.7124427336747 .. 5.326498857167794\n",
       "25086666  622400000000000.0 ... 175.47785545631078 .. 5.513249062307372\n",
       " 9757402  608300000000000.0 ...  175.5979769869793 .. 5.441102290922053"
      ]
     },
     "execution_count": 2,
     "metadata": {},
     "output_type": "execute_result"
    }
   ],
   "source": [
    "### Load the halos with the DS and Sigma profiles\n",
    "cardinal_cat =  Table(np.load(file_path+\"correctfilev2.npy\"))\n",
    "cardinal_cat = cardinal_cat[(cardinal_cat['Redshift']>=0.2) & (cardinal_cat['Redshift']<=0.65)]\n",
    "# cardinal_cat = cardinal_cat[cardinal_cat['Redshift']>=0.2]\n",
    "cardinal_cat = cardinal_cat[cardinal_cat[\"pid\"] == -1]\n",
    "print(len(cardinal_cat))\n",
    "print([cardinal_cat['Redshift'].max(),cardinal_cat['Redshift'].min()])\n",
    "print([cardinal_cat['Rvir'].max(),cardinal_cat['Rvir'].min()])\n",
    "print(cardinal_cat.columns)\n",
    "cardinal_cat[:5]#[\"Sigma\"]"
   ]
  },
  {
   "cell_type": "code",
   "execution_count": 3,
   "id": "a7fd96ae-bbe1-4150-8f2f-05e74a36aa51",
   "metadata": {},
   "outputs": [
    {
     "name": "stdout",
     "output_type": "stream",
     "text": [
      "20110\n",
      "<TableColumns names=('halo_id','id','m200','ra','dec','z','refmag','refmag_err','mag','mag_err','mem_match_id','lambda','lambda_e','z_lambda','z_lambda_e','cg_spec_z','z_spec_init','z_init','r_lambda','r_mask','scaleval','maskfrac','zred','zred_e','zred_chisq','chisq','z_lambda_niter','ebv_mean','lnlamlike','lncglike','lnlike','ra_orig','dec_orig','w','dlambda_dz','dlambda_dz2','dlambdavar_dz','dlambdavar_dz2','z_lambda_raw','z_lambda_e_raw','bkg_local','lim_exptime','lim_limmag','lim_limmag_hard','lambda_c','lambda_ce','ncent_good','maskgal_index','pzbins','pz','ra_cent','dec_cent','id_cent','lambda_cent','zlambda_cent','p_cen','q_cen','p_fg','q_miss','p_sat','p_c')>\n"
     ]
    },
    {
     "data": {
      "text/html": [
       "<div><i>Table length=5</i>\n",
       "<table id=\"table140737181022192\" class=\"table-striped table-bordered table-condensed\">\n",
       "<thead><tr><th>halo_id</th><th>id</th><th>m200</th><th>ra</th><th>dec</th><th>z</th><th>refmag</th><th>refmag_err</th><th>mag</th><th>mag_err</th><th>mem_match_id</th><th>lambda</th><th>lambda_e</th><th>z_lambda</th><th>z_lambda_e</th><th>cg_spec_z</th><th>z_spec_init</th><th>z_init</th><th>r_lambda</th><th>r_mask</th><th>scaleval</th><th>maskfrac</th><th>zred</th><th>zred_e</th><th>zred_chisq</th><th>chisq</th><th>z_lambda_niter</th><th>ebv_mean</th><th>lnlamlike</th><th>lncglike</th><th>lnlike</th><th>ra_orig</th><th>dec_orig</th><th>w</th><th>dlambda_dz</th><th>dlambda_dz2</th><th>dlambdavar_dz</th><th>dlambdavar_dz2</th><th>z_lambda_raw</th><th>z_lambda_e_raw</th><th>bkg_local</th><th>lim_exptime</th><th>lim_limmag</th><th>lim_limmag_hard</th><th>lambda_c</th><th>lambda_ce</th><th>ncent_good</th><th>maskgal_index</th><th>pzbins</th><th>pz</th><th>ra_cent</th><th>dec_cent</th><th>id_cent</th><th>lambda_cent</th><th>zlambda_cent</th><th>p_cen</th><th>q_cen</th><th>p_fg</th><th>q_miss</th><th>p_sat</th><th>p_c</th></tr></thead>\n",
       "<thead><tr><th>int64</th><th>int64</th><th>float32</th><th>float64</th><th>float64</th><th>float32</th><th>float32</th><th>float32</th><th>float32[4]</th><th>float32[4]</th><th>int32</th><th>float32</th><th>float32</th><th>float32</th><th>float32</th><th>float32</th><th>float32</th><th>float32</th><th>float32</th><th>float32</th><th>float32</th><th>float32</th><th>float32</th><th>float32</th><th>float32</th><th>float32</th><th>int16</th><th>float32</th><th>float32</th><th>float32</th><th>float32</th><th>float64</th><th>float64</th><th>float32</th><th>float32</th><th>float32</th><th>float32</th><th>float32</th><th>float32</th><th>float32</th><th>float32</th><th>float32</th><th>float32</th><th>float32</th><th>float32</th><th>float32</th><th>int16</th><th>int16</th><th>float32[21]</th><th>float32[21]</th><th>float64[5]</th><th>float64[5]</th><th>int64[5]</th><th>float32[5]</th><th>float32[5]</th><th>float32[5]</th><th>float32[5]</th><th>float32[5]</th><th>float32</th><th>float32[5]</th><th>float32[5]</th></tr></thead>\n",
       "<tr><td>17822571</td><td>345000877162</td><td>72600000000000.0</td><td>5.658116380122087</td><td>5.324218927490563</td><td>0.3971676</td><td>19.084948</td><td>0.017750388</td><td>21.716045 .. 19.084948</td><td>0.038830727 .. 0.017750388</td><td>95210</td><td>21.864592</td><td>3.4553776</td><td>0.37947354</td><td>0.015490246</td><td>0.3971676</td><td>0.0</td><td>0.0</td><td>0.73781633</td><td>1.1067245</td><td>1.1788124</td><td>0.15757576</td><td>0.0</td><td>0.0</td><td>0.0</td><td>0.0</td><td>3</td><td>0.0</td><td>0.0</td><td>0.0</td><td>0.0</td><td>0.0</td><td>0.0</td><td>0.0</td><td>1.7646153</td><td>-929.41693</td><td>8.67137</td><td>-43984.51</td><td>0.0</td><td>0.0</td><td>0.0</td><td>0.19640863</td><td>22.086016</td><td>23.33665</td><td>0.0</td><td>0.0</td><td>0</td><td>57</td><td>0.27300426 .. 0.4859428</td><td>4.43716e-22 .. 2.8766483e-06</td><td>0.0 .. 0.0</td><td>0.0 .. 0.0</td><td>0 .. 0</td><td>0.0 .. 0.0</td><td>0.0 .. 0.0</td><td>0.0 .. 0.0</td><td>0.0 .. 0.0</td><td>0.0 .. 0.0</td><td>0.0</td><td>0.0 .. 0.0</td><td>0.0 .. 0.0</td></tr>\n",
       "<tr><td>18662302</td><td>345002375230</td><td>33780000000000.0</td><td>5.803231355234748</td><td>5.079546834817194</td><td>0.63314426</td><td>20.250925</td><td>0.030680634</td><td>23.452744 .. 20.250925</td><td>0.10163934 .. 0.030680634</td><td>372578</td><td>20.23231</td><td>2.9895985</td><td>0.62766385</td><td>0.015765814</td><td>0.63314426</td><td>0.0</td><td>0.0</td><td>0.7264556</td><td>1.0896834</td><td>1.0222347</td><td>0.022466538</td><td>0.0</td><td>0.0</td><td>0.0</td><td>0.0</td><td>4</td><td>0.0</td><td>0.0</td><td>0.0</td><td>0.0</td><td>0.0</td><td>0.0</td><td>0.0</td><td>3.4078114</td><td>-2151.1455</td><td>46.706978</td><td>-28060.254</td><td>0.0</td><td>0.0</td><td>0.0</td><td>0.23622073</td><td>22.290562</td><td>23.33665</td><td>0.0</td><td>0.0</td><td>0</td><td>80</td><td>0.5291217 .. 0.726206</td><td>1.5201899e-14 .. 2.7896417e-06</td><td>0.0 .. 0.0</td><td>0.0 .. 0.0</td><td>0 .. 0</td><td>0.0 .. 0.0</td><td>0.0 .. 0.0</td><td>0.0 .. 0.0</td><td>0.0 .. 0.0</td><td>0.0 .. 0.0</td><td>0.0</td><td>0.0 .. 0.0</td><td>0.0 .. 0.0</td></tr>\n",
       "<tr><td>20200926</td><td>345006184473</td><td>25010000000000.0</td><td>5.765730199809865</td><td>4.906149348083147</td><td>0.9297515</td><td>21.712015</td><td>0.062687516</td><td>25.211117 .. 21.712015</td><td>0.34691328 .. 0.062687516</td><td>595881</td><td>27.691992</td><td>3.9658833</td><td>0.97768915</td><td>0.04012672</td><td>0.9297515</td><td>0.0</td><td>0.0</td><td>0.77351874</td><td>1.1602781</td><td>1.3932341</td><td>0.004078858</td><td>0.0</td><td>0.0</td><td>0.0</td><td>0.0</td><td>7</td><td>0.0</td><td>0.0</td><td>0.0</td><td>0.0</td><td>0.0</td><td>0.0</td><td>0.0</td><td>-0.35965306</td><td>-6755.8604</td><td>133.34984</td><td>32552.61</td><td>0.0</td><td>0.0</td><td>0.0</td><td>0.2801547</td><td>22.479599</td><td>23.33665</td><td>0.0</td><td>0.0</td><td>0</td><td>89</td><td>0.74233055 .. 1.2130477</td><td>4.9780238e-14 .. 0.00015605279</td><td>0.0 .. 0.0</td><td>0.0 .. 0.0</td><td>0 .. 0</td><td>0.0 .. 0.0</td><td>0.0 .. 0.0</td><td>0.0 .. 0.0</td><td>0.0 .. 0.0</td><td>0.0 .. 0.0</td><td>0.0</td><td>0.0 .. 0.0</td><td>0.0 .. 0.0</td></tr>\n",
       "<tr><td>5190512</td><td>346003463373</td><td>82210000000000.0</td><td>11.82649706496852</td><td>5.3081586719828096</td><td>1.0121017</td><td>20.443287</td><td>0.0298916</td><td>24.29025 .. 20.443287</td><td>0.17443706 .. 0.0298916</td><td>73968</td><td>22.230711</td><td>4.7194834</td><td>1.0672556</td><td>0.054153014</td><td>1.0121017</td><td>0.0</td><td>0.0</td><td>0.7402709</td><td>1.1104063</td><td>1.8294138</td><td>0.0</td><td>0.0</td><td>0.0</td><td>0.0</td><td>0.0</td><td>6</td><td>0.0</td><td>0.0</td><td>0.0</td><td>0.0</td><td>0.0</td><td>0.0</td><td>0.0</td><td>2.9519856</td><td>13612.567</td><td>583.97003</td><td>1772777.9</td><td>0.0</td><td>0.0</td><td>0.0</td><td>0.26260033</td><td>22.407887</td><td>23.33665</td><td>0.0</td><td>0.0</td><td>0</td><td>99</td><td>0.86688536 .. 1.267626</td><td>0.0036711723 .. 0.0010095594</td><td>0.0 .. 0.0</td><td>0.0 .. 0.0</td><td>0 .. 0</td><td>0.0 .. 0.0</td><td>0.0 .. 0.0</td><td>0.0 .. 0.0</td><td>0.0 .. 0.0</td><td>0.0 .. 0.0</td><td>0.0</td><td>0.0 .. 0.0</td><td>0.0 .. 0.0</td></tr>\n",
       "<tr><td>19456620</td><td>346002402104</td><td>47590000000000.0</td><td>10.929073973700252</td><td>5.222449829793092</td><td>0.6640515</td><td>19.375788</td><td>0.017793566</td><td>22.61545 .. 19.375788</td><td>0.05456377 .. 0.017793566</td><td>210104</td><td>20.918783</td><td>2.97897</td><td>0.6925077</td><td>0.021331342</td><td>0.6640515</td><td>0.0</td><td>0.0</td><td>0.7313197</td><td>1.0969796</td><td>1.0119578</td><td>0.007141157</td><td>0.0</td><td>0.0</td><td>0.0</td><td>0.0</td><td>9</td><td>0.0</td><td>0.0</td><td>0.0</td><td>0.0</td><td>0.0</td><td>0.0</td><td>0.0</td><td>-3.4559963</td><td>-5943.832</td><td>3.0268896</td><td>25162.422</td><td>0.0</td><td>0.0</td><td>0.0</td><td>0.23841117</td><td>22.30079</td><td>23.33665</td><td>0.0</td><td>0.0</td><td>0</td><td>61</td><td>0.579463 .. 0.80555236</td><td>6.4232568e-06 .. 2.2444071e-06</td><td>0.0 .. 0.0</td><td>0.0 .. 0.0</td><td>0 .. 0</td><td>0.0 .. 0.0</td><td>0.0 .. 0.0</td><td>0.0 .. 0.0</td><td>0.0 .. 0.0</td><td>0.0 .. 0.0</td><td>0.0</td><td>0.0 .. 0.0</td><td>0.0 .. 0.0</td></tr>\n",
       "</table></div>"
      ],
      "text/plain": [
       "<Table length=5>\n",
       "halo_id       id            m200       ...  q_miss   p_sat       p_c    \n",
       " int64      int64         float32      ... float32 float32[5] float32[5]\n",
       "-------- ------------ ---------------- ... ------- ---------- ----------\n",
       "17822571 345000877162 72600000000000.0 ...     0.0 0.0 .. 0.0 0.0 .. 0.0\n",
       "18662302 345002375230 33780000000000.0 ...     0.0 0.0 .. 0.0 0.0 .. 0.0\n",
       "20200926 345006184473 25010000000000.0 ...     0.0 0.0 .. 0.0 0.0 .. 0.0\n",
       " 5190512 346003463373 82210000000000.0 ...     0.0 0.0 .. 0.0 0.0 .. 0.0\n",
       "19456620 346002402104 47590000000000.0 ...     0.0 0.0 .. 0.0 0.0 .. 0.0"
      ]
     },
     "execution_count": 3,
     "metadata": {},
     "output_type": "execute_result"
    }
   ],
   "source": [
    "### Load the halos with the DS and Sigma profiles\n",
    "halo_run_cat =  Table(fitsio.read(file_path+\"halo_run/Cardinal-3Y6a_v2.0_run_run_redmapper_v0.8.1_redmapper_v0.8.1_runcat_catalog.fit\"))\n",
    "# halos_ds0 =  Table(fitsio.read(file_path+\"Cardinal-3Y6a_v2.0_run_run_redmapper_v0.8.1_redmapper_v0.8.1_runcat_catalog_members.fit\"))\n",
    "halo_run_cat = halo_run_cat[halo_run_cat['lambda'] > 20]\n",
    "print(len(halo_run_cat))\n",
    "print(halo_run_cat.columns)\n",
    "halo_run_cat[:5]#[\"Sigma\"]"
   ]
  },
  {
   "cell_type": "code",
   "execution_count": 4,
   "id": "df3a95dd-fe70-4bb2-9429-194d2e87d759",
   "metadata": {},
   "outputs": [
    {
     "name": "stdout",
     "output_type": "stream",
     "text": [
      "8201\n"
     ]
    },
    {
     "data": {
      "text/html": [
       "<div><i>Table length=5</i>\n",
       "<table id=\"table140737155260176\" class=\"table-striped table-bordered table-condensed\">\n",
       "<thead><tr><th>haloid</th><th>Mvir</th><th>RA</th><th>DEC</th><th>Redshift</th><th>Rvir</th><th>cosi</th><th>pid</th><th>rs</th><th>M200m</th><th>R200m</th><th>rho</th><th>DeltaSigma</th><th>Sigma</th><th>gtall</th><th>weightall</th><th>ratio</th><th>delta</th><th>halo_id</th><th>id</th><th>m200</th><th>ra</th><th>dec</th><th>z</th><th>refmag</th><th>refmag_err</th><th>mag</th><th>mag_err</th><th>mem_match_id</th><th>lambda</th><th>lambda_e</th><th>z_lambda</th><th>z_lambda_e</th><th>cg_spec_z</th><th>z_spec_init</th><th>z_init</th><th>r_lambda</th><th>r_mask</th><th>scaleval</th><th>maskfrac</th><th>zred</th><th>zred_e</th><th>zred_chisq</th><th>chisq</th><th>z_lambda_niter</th><th>ebv_mean</th><th>lnlamlike</th><th>lncglike</th><th>lnlike</th><th>ra_orig</th><th>dec_orig</th><th>w</th><th>dlambda_dz</th><th>dlambda_dz2</th><th>dlambdavar_dz</th><th>dlambdavar_dz2</th><th>z_lambda_raw</th><th>z_lambda_e_raw</th><th>bkg_local</th><th>lim_exptime</th><th>lim_limmag</th><th>lim_limmag_hard</th><th>lambda_c</th><th>lambda_ce</th><th>ncent_good</th><th>maskgal_index</th><th>pzbins</th><th>pz</th><th>ra_cent</th><th>dec_cent</th><th>id_cent</th><th>lambda_cent</th><th>zlambda_cent</th><th>p_cen</th><th>q_cen</th><th>p_fg</th><th>q_miss</th><th>p_sat</th><th>p_c</th></tr></thead>\n",
       "<thead><tr><th>int32</th><th>float32</th><th>float64</th><th>float64</th><th>float64</th><th>float64</th><th>float64</th><th>int32</th><th>float64</th><th>float32</th><th>float64</th><th>float64[10]</th><th>float64[15]</th><th>float64[15]</th><th>float64[15]</th><th>float64[15]</th><th>float64[100]</th><th>float64[100]</th><th>int64</th><th>int64</th><th>float32</th><th>float64</th><th>float64</th><th>float32</th><th>float32</th><th>float32</th><th>float32[4]</th><th>float32[4]</th><th>int32</th><th>float32</th><th>float32</th><th>float32</th><th>float32</th><th>float32</th><th>float32</th><th>float32</th><th>float32</th><th>float32</th><th>float32</th><th>float32</th><th>float32</th><th>float32</th><th>float32</th><th>float32</th><th>int16</th><th>float32</th><th>float32</th><th>float32</th><th>float32</th><th>float64</th><th>float64</th><th>float32</th><th>float32</th><th>float32</th><th>float32</th><th>float32</th><th>float32</th><th>float32</th><th>float32</th><th>float32</th><th>float32</th><th>float32</th><th>float32</th><th>float32</th><th>int16</th><th>int16</th><th>float32[21]</th><th>float32[21]</th><th>float64[5]</th><th>float64[5]</th><th>int64[5]</th><th>float32[5]</th><th>float32[5]</th><th>float32[5]</th><th>float32[5]</th><th>float32[5]</th><th>float32</th><th>float32[5]</th><th>float32[5]</th></tr></thead>\n",
       "<tr><td>2583063</td><td>267400000000000.0</td><td>169.382</td><td>47.2833</td><td>0.310835</td><td>1.58106463878327</td><td>0.449461</td><td>-1</td><td>0.309073</td><td>277851100000000.0</td><td>1.61068</td><td>2919820191159664.0 .. 1043603577247.4805</td><td>-50.48811570718509 .. 2.0349627665933068</td><td>809.4886033557152 .. 8.841589325287124</td><td>2.970600369931629e-05 .. 0.7959358266897882</td><td>5.827664495263838e-07 .. 0.1665607820021916</td><td>8.14784788815788 .. 1.0</td><td>131.94855597616763 .. 0.0</td><td>2583063</td><td>87001073651</td><td>267400000000000.0</td><td>306.3130376896028</td><td>-45.68660434964616</td><td>0.31037349</td><td>16.965763</td><td>0.0054757674</td><td>19.369974 .. 16.965763</td><td>0.00831528 .. 0.0054757674</td><td>4225</td><td>26.761438</td><td>2.1556258</td><td>0.30325016</td><td>0.008422698</td><td>0.31037349</td><td>0.0</td><td>0.0</td><td>0.7682488</td><td>1.1523732</td><td>1.0118104</td><td>0.009429622</td><td>0.0</td><td>0.0</td><td>0.0</td><td>0.0</td><td>3</td><td>0.0</td><td>0.0</td><td>0.0</td><td>0.0</td><td>0.0</td><td>0.0</td><td>0.0</td><td>-3.0629818</td><td>1861.0948</td><td>-25.25452</td><td>776.4697</td><td>0.0</td><td>0.0</td><td>0.0</td><td>0.27865246</td><td>22.47364</td><td>23.33665</td><td>0.0</td><td>0.0</td><td>0</td><td>59</td><td>0.25470987 .. 0.35179046</td><td>1.8740894e-06 .. 5.453747e-06</td><td>0.0 .. 0.0</td><td>0.0 .. 0.0</td><td>0 .. 0</td><td>0.0 .. 0.0</td><td>0.0 .. 0.0</td><td>0.0 .. 0.0</td><td>0.0 .. 0.0</td><td>0.0 .. 0.0</td><td>0.0</td><td>0.0 .. 0.0</td><td>0.0 .. 0.0</td></tr>\n",
       "<tr><td>2865388</td><td>343800000000000.0</td><td>158.824</td><td>43.2032</td><td>0.292247</td><td>1.7386651958080528</td><td>0.645331</td><td>-1</td><td>0.435861</td><td>359562100000000.0</td><td>1.75518</td><td>3367498572924773.0 .. 1717217159636.3926</td><td>123.53569682144754 .. 0.49473433184016635</td><td>965.8212017127889 .. 17.479036763720586</td><td>-1.3404642168463923e-06 .. 0.07187618241787581</td><td>1.0009043415434238e-07 .. 0.08463139272147693</td><td>9.41972930181457 .. 1.0</td><td>147.95119272417446 .. 0.0</td><td>2865388</td><td>92000885484</td><td>343800000000000.0</td><td>315.6922106017438</td><td>-40.670825231321004</td><td>0.29410264</td><td>16.824503</td><td>0.0048866537</td><td>18.967258 .. 16.824503</td><td>0.0061681 .. 0.0048866537</td><td>1941</td><td>26.990263</td><td>3.1322796</td><td>0.28994408</td><td>0.008686038</td><td>0.29410264</td><td>0.0</td><td>0.0</td><td>0.76955813</td><td>1.1543372</td><td>1.0747478</td><td>0.06979927</td><td>0.0</td><td>0.0</td><td>0.0</td><td>0.0</td><td>1</td><td>0.0</td><td>0.0</td><td>0.0</td><td>0.0</td><td>0.0</td><td>0.0</td><td>0.0</td><td>2.0722835</td><td>-1464.4607</td><td>-40.15961</td><td>9412.771</td><td>0.0</td><td>0.0</td><td>0.0</td><td>0.2816006</td><td>22.485304</td><td>23.33665</td><td>0.0</td><td>0.0</td><td>0</td><td>24</td><td>0.23959486 .. 0.3402933</td><td>5.009185e-07 .. 4.7464146e-06</td><td>0.0 .. 0.0</td><td>0.0 .. 0.0</td><td>0 .. 0</td><td>0.0 .. 0.0</td><td>0.0 .. 0.0</td><td>0.0 .. 0.0</td><td>0.0 .. 0.0</td><td>0.0 .. 0.0</td><td>0.0</td><td>0.0 .. 0.0</td><td>0.0 .. 0.0</td></tr>\n",
       "<tr><td>2884407</td><td>64260000000000.0</td><td>158.114</td><td>44.0933</td><td>0.300503</td><td>0.9882900930487136</td><td>0.999976</td><td>-1</td><td>0.109878</td><td>68416270000000.0</td><td>1.00953</td><td>2129693143057493.0 .. 353317384307.76</td><td>210.8480662427967 .. 3.842788700210259</td><td>738.8460961575139 .. 15.079862440016033</td><td>1.155508248170654e-05 .. 0.33103654204867283</td><td>5.772558639540821e-07 .. 0.11808631150765907</td><td>13.091472794481415 .. 1.0219496867461229</td><td>82.52071066978911 .. 0.5359256079045507</td><td>2884407</td><td>92000885502</td><td>64260000000000.0</td><td>316.5122320351085</td><td>-41.491847866765625</td><td>0.30101183</td><td>17.411495</td><td>0.005674935</td><td>19.76384 .. 17.411495</td><td>0.008261976 .. 0.005674935</td><td>121081</td><td>21.544237</td><td>10.41607</td><td>0.31765813</td><td>0.008813919</td><td>0.30101183</td><td>0.0</td><td>0.0</td><td>0.7356415</td><td>1.1034622</td><td>2.0716536</td><td>0.5174514</td><td>0.0</td><td>0.0</td><td>0.0</td><td>0.0</td><td>4</td><td>0.0</td><td>0.0</td><td>0.0</td><td>0.0</td><td>0.0</td><td>0.0</td><td>0.0</td><td>-20.114618</td><td>-16334.609</td><td>-1343.628</td><td>-470208.9</td><td>0.0</td><td>0.0</td><td>0.0</td><td>0.3639164</td><td>22.769493</td><td>23.33665</td><td>0.0</td><td>0.0</td><td>0</td><td>89</td><td>0.2618493 .. 0.37346694</td><td>1.4350305e-08 .. 5.2544283e-06</td><td>0.0 .. 0.0</td><td>0.0 .. 0.0</td><td>0 .. 0</td><td>0.0 .. 0.0</td><td>0.0 .. 0.0</td><td>0.0 .. 0.0</td><td>0.0 .. 0.0</td><td>0.0 .. 0.0</td><td>0.0</td><td>0.0 .. 0.0</td><td>0.0 .. 0.0</td></tr>\n",
       "<tr><td>3317783</td><td>534300000000000.0</td><td>141.411</td><td>4.71059</td><td>0.27568</td><td>2.0379495798319325</td><td>0.870134</td><td>-1</td><td>0.379777</td><td>558280800000000.0</td><td>2.03247</td><td>3200949728886716.5 .. 2946685819334.8584</td><td>443.34808523277934 .. 3.9735201121490324</td><td>1481.0216433514106 .. 18.205408836215796</td><td>-5.8805146651502315e-06 .. 0.6681448579663274</td><td>1.9572889629850612e-07 .. 0.07378814296438617</td><td>11.294653775682676 .. 1.0</td><td>192.94379242043829 .. 0.0</td><td>3317783</td><td>427001018973</td><td>534300000000000.0</td><td>328.67296720085307</td><td>-0.9115215947241921</td><td>0.27657124</td><td>16.73287</td><td>0.0038654278</td><td>18.786032 .. 16.73287</td><td>0.005781372 .. 0.0038654278</td><td>435</td><td>31.780325</td><td>2.6555643</td><td>0.2687114</td><td>0.008641449</td><td>0.27657124</td><td>0.0</td><td>0.0</td><td>0.79511815</td><td>1.1926773</td><td>1.0060242</td><td>0.005167378</td><td>0.0</td><td>0.0</td><td>0.0</td><td>0.0</td><td>5</td><td>0.0</td><td>0.0</td><td>0.0</td><td>0.0</td><td>0.0</td><td>0.0</td><td>0.0</td><td>11.022035</td><td>-4562.5576</td><td>38.522194</td><td>-29859.533</td><td>0.0</td><td>0.0</td><td>0.0</td><td>0.35276982</td><td>22.735018</td><td>23.33665</td><td>0.0</td><td>0.0</td><td>0</td><td>27</td><td>0.21841095 .. 0.3190118</td><td>5.375012e-07 .. 5.3037334e-06</td><td>0.0 .. 0.0</td><td>0.0 .. 0.0</td><td>0 .. 0</td><td>0.0 .. 0.0</td><td>0.0 .. 0.0</td><td>0.0 .. 0.0</td><td>0.0 .. 0.0</td><td>0.0 .. 0.0</td><td>0.0</td><td>0.0 .. 0.0</td><td>0.0 .. 0.0</td></tr>\n",
       "<tr><td>3318557</td><td>70730000000000.0</td><td>141.358</td><td>4.02728</td><td>0.294808</td><td>1.0269729729729729</td><td>0.938582</td><td>-1</td><td>0.171595</td><td>77692480000000.0</td><td>1.05328</td><td>1699054755657070.0 .. 1165863144830.3997</td><td>79.04263761061945 .. 2.190359629651931</td><td>874.2520856172846 .. 19.7210737123784</td><td>-3.535862780891047e-05 .. 0.4616359041475175</td><td>4.3852606868464326e-07 .. 0.08457969719749359</td><td>15.519075516582419 .. 1.0</td><td>101.902115861443 .. 0.0</td><td>3318557</td><td>426000459249</td><td>70730000000000.0</td><td>328.6733753185936</td><td>-0.22635203198503007</td><td>0.29346317</td><td>18.111334</td><td>0.0075504608</td><td>20.411171 .. 18.111334</td><td>0.0134557085 .. 0.0075504608</td><td>100228</td><td>26.486849</td><td>2.4605126</td><td>0.2827194</td><td>0.008822624</td><td>0.29346317</td><td>0.0</td><td>0.0</td><td>0.76666576</td><td>1.1499987</td><td>1.0252874</td><td>0.023308441</td><td>0.0</td><td>0.0</td><td>0.0</td><td>0.0</td><td>4</td><td>0.0</td><td>0.0</td><td>0.0</td><td>0.0</td><td>0.0</td><td>0.0</td><td>0.0</td><td>6.1121063</td><td>-8870.235</td><td>190.70355</td><td>-99167.98</td><td>0.0</td><td>0.0</td><td>0.0</td><td>0.38702872</td><td>22.837732</td><td>23.33665</td><td>0.0</td><td>0.0</td><td>0</td><td>47</td><td>0.23212421 .. 0.3333146</td><td>8.119236e-07 .. 5.493397e-06</td><td>0.0 .. 0.0</td><td>0.0 .. 0.0</td><td>0 .. 0</td><td>0.0 .. 0.0</td><td>0.0 .. 0.0</td><td>0.0 .. 0.0</td><td>0.0 .. 0.0</td><td>0.0 .. 0.0</td><td>0.0</td><td>0.0 .. 0.0</td><td>0.0 .. 0.0</td></tr>\n",
       "</table></div>"
      ],
      "text/plain": [
       "<Table length=5>\n",
       " haloid        Mvir          RA     DEC   ...  q_miss   p_sat       p_c    \n",
       " int32       float32      float64 float64 ... float32 float32[5] float32[5]\n",
       "------- ----------------- ------- ------- ... ------- ---------- ----------\n",
       "2583063 267400000000000.0 169.382 47.2833 ...     0.0 0.0 .. 0.0 0.0 .. 0.0\n",
       "2865388 343800000000000.0 158.824 43.2032 ...     0.0 0.0 .. 0.0 0.0 .. 0.0\n",
       "2884407  64260000000000.0 158.114 44.0933 ...     0.0 0.0 .. 0.0 0.0 .. 0.0\n",
       "3317783 534300000000000.0 141.411 4.71059 ...     0.0 0.0 .. 0.0 0.0 .. 0.0\n",
       "3318557  70730000000000.0 141.358 4.02728 ...     0.0 0.0 .. 0.0 0.0 .. 0.0"
      ]
     },
     "execution_count": 4,
     "metadata": {},
     "output_type": "execute_result"
    }
   ],
   "source": [
    "cluster_halos_red = Table(join(cardinal_cat, halo_run_cat, keys_right=[\"halo_id\",\"m200\"],keys_left=[\"haloid\",\"Mvir\"]))\n",
    "# cluster_halos_red = Table(join(cardinal_cat, halo_run_cat, keys_right=[\"halo_id\"],keys_left=[\"haloid\"]))\n",
    "print(len(cluster_halos_red))\n",
    "cluster_halos_red[:5]"
   ]
  },
  {
   "cell_type": "code",
   "execution_count": 5,
   "id": "fb7cb229-bb1c-44f7-9de7-982c35a03ff8",
   "metadata": {},
   "outputs": [
    {
     "name": "stdout",
     "output_type": "stream",
     "text": [
      "Series([], Name: count, dtype: int64)\n"
     ]
    }
   ],
   "source": [
    "df = cluster_halos_red['haloid', 'Mvir'].to_pandas()\n",
    "\n",
    "# Count duplicates in column 'A'\n",
    "value_counts = df['haloid'].value_counts()\n",
    "\n",
    "# To specifically find duplicates, you can filter values with counts greater than 1\n",
    "duplicates = value_counts[value_counts > 1]\n",
    "print(duplicates)"
   ]
  },
  {
   "cell_type": "code",
   "execution_count": 6,
   "id": "4df59134-fccc-4156-a2c0-a036112b13fb",
   "metadata": {},
   "outputs": [
    {
     "name": "stdout",
     "output_type": "stream",
     "text": [
      "8479\n",
      "redshift_range lambda_range halo_id\n",
      "-------------- ------------ -------\n",
      "    [0.2,0.35)      [20,30)     589\n",
      "    [0.2,0.35)      [30,45)     141\n",
      "    [0.2,0.35)      [45,60)      30\n",
      "    [0.2,0.35)       [60,∞)      50\n",
      "   [0.35, 0.5)      [20,30)    2633\n",
      "   [0.35, 0.5)      [30,45)     769\n",
      "   [0.35, 0.5)      [45,60)     185\n",
      "   [0.35, 0.5)       [60,∞)     167\n",
      "   [0.5, 0.65)      [20,30)    2958\n",
      "   [0.5, 0.65)      [30,45)     703\n",
      "   [0.5, 0.65)      [45,60)     129\n",
      "   [0.5, 0.65)       [60,∞)     125\n"
     ]
    },
    {
     "data": {
      "text/html": [
       "<div><i>Table length=5</i>\n",
       "<table id=\"table140729584087248\" class=\"table-striped table-bordered table-condensed\">\n",
       "<thead><tr><th>halo_id</th><th>id</th><th>m200</th><th>ra</th><th>dec</th><th>z</th><th>refmag</th><th>refmag_err</th><th>mag</th><th>mag_err</th><th>mem_match_id</th><th>lambda</th><th>lambda_e</th><th>z_lambda</th><th>z_lambda_e</th><th>cg_spec_z</th><th>z_spec_init</th><th>z_init</th><th>r_lambda</th><th>r_mask</th><th>scaleval</th><th>maskfrac</th><th>zred</th><th>zred_e</th><th>zred_chisq</th><th>chisq</th><th>z_lambda_niter</th><th>ebv_mean</th><th>lnlamlike</th><th>lncglike</th><th>lnlike</th><th>ra_orig</th><th>dec_orig</th><th>w</th><th>dlambda_dz</th><th>dlambda_dz2</th><th>dlambdavar_dz</th><th>dlambdavar_dz2</th><th>z_lambda_raw</th><th>z_lambda_e_raw</th><th>bkg_local</th><th>lim_exptime</th><th>lim_limmag</th><th>lim_limmag_hard</th><th>lambda_c</th><th>lambda_ce</th><th>ncent_good</th><th>maskgal_index</th><th>pzbins</th><th>pz</th><th>ra_cent</th><th>dec_cent</th><th>id_cent</th><th>lambda_cent</th><th>zlambda_cent</th><th>p_cen</th><th>q_cen</th><th>p_fg</th><th>q_miss</th><th>p_sat</th><th>p_c</th><th>redshift_range</th><th>lambda_range</th></tr></thead>\n",
       "<thead><tr><th>int64</th><th>int64</th><th>float32</th><th>float64</th><th>float64</th><th>float32</th><th>float32</th><th>float32</th><th>float32[4]</th><th>float32[4]</th><th>int32</th><th>float32</th><th>float32</th><th>float32</th><th>float32</th><th>float32</th><th>float32</th><th>float32</th><th>float32</th><th>float32</th><th>float32</th><th>float32</th><th>float32</th><th>float32</th><th>float32</th><th>float32</th><th>int16</th><th>float32</th><th>float32</th><th>float32</th><th>float32</th><th>float64</th><th>float64</th><th>float32</th><th>float32</th><th>float32</th><th>float32</th><th>float32</th><th>float32</th><th>float32</th><th>float32</th><th>float32</th><th>float32</th><th>float32</th><th>float32</th><th>float32</th><th>int16</th><th>int16</th><th>float32[21]</th><th>float32[21]</th><th>float64[5]</th><th>float64[5]</th><th>int64[5]</th><th>float32[5]</th><th>float32[5]</th><th>float32[5]</th><th>float32[5]</th><th>float32[5]</th><th>float32</th><th>float32[5]</th><th>float32[5]</th><th>object</th><th>object</th></tr></thead>\n",
       "<tr><td>17822571</td><td>345000877162</td><td>72600000000000.0</td><td>5.658116380122087</td><td>5.324218927490563</td><td>0.3971676</td><td>19.084948</td><td>0.017750388</td><td>21.716045 .. 19.084948</td><td>0.038830727 .. 0.017750388</td><td>95210</td><td>21.864592</td><td>3.4553776</td><td>0.37947354</td><td>0.015490246</td><td>0.3971676</td><td>0.0</td><td>0.0</td><td>0.73781633</td><td>1.1067245</td><td>1.1788124</td><td>0.15757576</td><td>0.0</td><td>0.0</td><td>0.0</td><td>0.0</td><td>3</td><td>0.0</td><td>0.0</td><td>0.0</td><td>0.0</td><td>0.0</td><td>0.0</td><td>0.0</td><td>1.7646153</td><td>-929.41693</td><td>8.67137</td><td>-43984.51</td><td>0.0</td><td>0.0</td><td>0.0</td><td>0.19640863</td><td>22.086016</td><td>23.33665</td><td>0.0</td><td>0.0</td><td>0</td><td>57</td><td>0.27300426 .. 0.4859428</td><td>4.43716e-22 .. 2.8766483e-06</td><td>0.0 .. 0.0</td><td>0.0 .. 0.0</td><td>0 .. 0</td><td>0.0 .. 0.0</td><td>0.0 .. 0.0</td><td>0.0 .. 0.0</td><td>0.0 .. 0.0</td><td>0.0 .. 0.0</td><td>0.0</td><td>0.0 .. 0.0</td><td>0.0 .. 0.0</td><td>[0.35, 0.5)</td><td>[20,30)</td></tr>\n",
       "<tr><td>18662302</td><td>345002375230</td><td>33780000000000.0</td><td>5.803231355234748</td><td>5.079546834817194</td><td>0.63314426</td><td>20.250925</td><td>0.030680634</td><td>23.452744 .. 20.250925</td><td>0.10163934 .. 0.030680634</td><td>372578</td><td>20.23231</td><td>2.9895985</td><td>0.62766385</td><td>0.015765814</td><td>0.63314426</td><td>0.0</td><td>0.0</td><td>0.7264556</td><td>1.0896834</td><td>1.0222347</td><td>0.022466538</td><td>0.0</td><td>0.0</td><td>0.0</td><td>0.0</td><td>4</td><td>0.0</td><td>0.0</td><td>0.0</td><td>0.0</td><td>0.0</td><td>0.0</td><td>0.0</td><td>3.4078114</td><td>-2151.1455</td><td>46.706978</td><td>-28060.254</td><td>0.0</td><td>0.0</td><td>0.0</td><td>0.23622073</td><td>22.290562</td><td>23.33665</td><td>0.0</td><td>0.0</td><td>0</td><td>80</td><td>0.5291217 .. 0.726206</td><td>1.5201899e-14 .. 2.7896417e-06</td><td>0.0 .. 0.0</td><td>0.0 .. 0.0</td><td>0 .. 0</td><td>0.0 .. 0.0</td><td>0.0 .. 0.0</td><td>0.0 .. 0.0</td><td>0.0 .. 0.0</td><td>0.0 .. 0.0</td><td>0.0</td><td>0.0 .. 0.0</td><td>0.0 .. 0.0</td><td>[0.5, 0.65)</td><td>[20,30)</td></tr>\n",
       "<tr><td>24975657</td><td>357001986982</td><td>83160000000000.0</td><td>28.394140055399006</td><td>5.243970542492093</td><td>0.5625403</td><td>19.03666</td><td>0.018538333</td><td>22.162046 .. 19.03666</td><td>0.04953289 .. 0.018538333</td><td>72364</td><td>21.681532</td><td>5.514978</td><td>0.5463143</td><td>0.008750673</td><td>0.5625403</td><td>0.0</td><td>0.0</td><td>0.73657674</td><td>1.1048651</td><td>1.3941615</td><td>0.28291646</td><td>0.0</td><td>0.0</td><td>0.0</td><td>0.0</td><td>4</td><td>0.0</td><td>0.0</td><td>0.0</td><td>0.0</td><td>0.0</td><td>0.0</td><td>0.0</td><td>0.5279578</td><td>5123.1235</td><td>101.016304</td><td>35348.68</td><td>0.0</td><td>0.0</td><td>0.0</td><td>0.17548464</td><td>21.961178</td><td>23.33665</td><td>0.0</td><td>0.0</td><td>0</td><td>87</td><td>0.49677104 .. 0.5958575</td><td>2.5386375e-05 .. 5.237361e-06</td><td>0.0 .. 0.0</td><td>0.0 .. 0.0</td><td>0 .. 0</td><td>0.0 .. 0.0</td><td>0.0 .. 0.0</td><td>0.0 .. 0.0</td><td>0.0 .. 0.0</td><td>0.0 .. 0.0</td><td>0.0</td><td>0.0 .. 0.0</td><td>0.0 .. 0.0</td><td>[0.5, 0.65)</td><td>[20,30)</td></tr>\n",
       "<tr><td>24972428</td><td>358002148421</td><td>263100000000000.0</td><td>33.56165613850777</td><td>4.965604697022471</td><td>0.5530571</td><td>18.505133</td><td>0.011187272</td><td>21.685019 .. 18.505133</td><td>0.026366077 .. 0.011187272</td><td>4421</td><td>96.58346</td><td>5.94665</td><td>0.55057955</td><td>0.0061028893</td><td>0.5530571</td><td>0.0</td><td>0.0</td><td>0.99307156</td><td>1.4896073</td><td>1.0743568</td><td>0.07537299</td><td>0.0</td><td>0.0</td><td>0.0</td><td>0.0</td><td>3</td><td>0.0</td><td>0.0</td><td>0.0</td><td>0.0</td><td>0.0</td><td>0.0</td><td>0.0</td><td>-1.2004043</td><td>-1.4350879</td><td>46.498093</td><td>-1325.7959</td><td>0.0</td><td>0.0</td><td>0.0</td><td>0.2500412</td><td>22.353575</td><td>23.33665</td><td>0.0</td><td>0.0</td><td>0</td><td>97</td><td>0.5166381 .. 0.584521</td><td>2.973007e-05 .. 7.4402847e-06</td><td>0.0 .. 0.0</td><td>0.0 .. 0.0</td><td>0 .. 0</td><td>0.0 .. 0.0</td><td>0.0 .. 0.0</td><td>0.0 .. 0.0</td><td>0.0 .. 0.0</td><td>0.0 .. 0.0</td><td>0.0</td><td>0.0 .. 0.0</td><td>0.0 .. 0.0</td><td>[0.5, 0.65)</td><td>[60,∞)</td></tr>\n",
       "<tr><td>24976552</td><td>358002148859</td><td>22900000000000.0</td><td>33.6535503207799</td><td>5.179955697732865</td><td>0.544114</td><td>19.43042</td><td>0.021105306</td><td>22.496658 .. 19.43042</td><td>0.057776254 .. 0.021105306</td><td>664087</td><td>21.239138</td><td>3.7985115</td><td>0.5499281</td><td>0.00825142</td><td>0.544114</td><td>0.0</td><td>0.0</td><td>0.733546</td><td>1.100319</td><td>1.160774</td><td>0.13839285</td><td>0.0</td><td>0.0</td><td>0.0</td><td>0.0</td><td>2</td><td>0.0</td><td>0.0</td><td>0.0</td><td>0.0</td><td>0.0</td><td>0.0</td><td>0.0</td><td>3.7021186</td><td>2224.3677</td><td>81.53629</td><td>52029.13</td><td>0.0</td><td>0.0</td><td>0.0</td><td>0.18426943</td><td>22.015312</td><td>23.33665</td><td>0.0</td><td>0.0</td><td>0</td><td>79</td><td>0.50290275 .. 0.5969536</td><td>1.79241e-05 .. 5.491733e-06</td><td>0.0 .. 0.0</td><td>0.0 .. 0.0</td><td>0 .. 0</td><td>0.0 .. 0.0</td><td>0.0 .. 0.0</td><td>0.0 .. 0.0</td><td>0.0 .. 0.0</td><td>0.0 .. 0.0</td><td>0.0</td><td>0.0 .. 0.0</td><td>0.0 .. 0.0</td><td>[0.5, 0.65)</td><td>[20,30)</td></tr>\n",
       "</table></div>"
      ],
      "text/plain": [
       "<Table length=5>\n",
       "halo_id       id             m200       ... redshift_range lambda_range\n",
       " int64      int64          float32      ...     object        object   \n",
       "-------- ------------ ----------------- ... -------------- ------------\n",
       "17822571 345000877162  72600000000000.0 ...    [0.35, 0.5)      [20,30)\n",
       "18662302 345002375230  33780000000000.0 ...    [0.5, 0.65)      [20,30)\n",
       "24975657 357001986982  83160000000000.0 ...    [0.5, 0.65)      [20,30)\n",
       "24972428 358002148421 263100000000000.0 ...    [0.5, 0.65)       [60,∞)\n",
       "24976552 358002148859  22900000000000.0 ...    [0.5, 0.65)      [20,30)"
      ]
     },
     "execution_count": 6,
     "metadata": {},
     "output_type": "execute_result"
    }
   ],
   "source": [
    "indexes = (halo_run_cat[\"z\"]>=0.2) & (halo_run_cat[\"z\"] <= 0.65)\n",
    "halo_run_cat2 = halo_run_cat[indexes]\n",
    "print(len(halo_run_cat2))\n",
    "zranges = [(0.2,0.35), (0.35, 0.5), (0.5, 0.65)] #, \n",
    "# lamranges = [(13,13.5), (13.5,14), (14.5,15), (15,np.inf)]\n",
    "lamranges = [(20,30), (30,45), (45,60), (60,np.inf)]\n",
    "zlabels = ['[0.2,0.35)', '[0.35, 0.5)', '[0.5, 0.65)'] #, '(0.8,0.95]'\n",
    "# lamlabels = ['[13,13.5)', '[13.5,14)', '[14.5,15)', '[15,∞)']\n",
    "lamlabels = ['[20,30)', '[30,45)', '[45,60)', '[60,∞)']\n",
    "halo_run_cat2['redshift_range'] = pd.cut(halo_run_cat2['z'], bins=[r[0] for r in zranges] + [zranges[-1][-1]], labels=zlabels)\n",
    "halo_run_cat2['lambda_range'] = pd.cut(halo_run_cat2['lambda'], bins=[r[0] for r in lamranges] + [lamranges[-1][-1]], labels=lamlabels)\n",
    "\n",
    "halo_run_cat2['redshift_range'] = pd.Categorical(halo_run_cat2['redshift_range'], categories=zlabels, ordered=True)\n",
    "halo_run_cat2['lambda_range'] = pd.Categorical(halo_run_cat2['lambda_range'], categories=lamlabels, ordered=True)\n",
    "\n",
    "grouped = halo_run_cat2.group_by(['redshift_range', 'lambda_range'])\n",
    "cluster_counts = grouped.groups.aggregate(len)\n",
    "print(cluster_counts['redshift_range','lambda_range','halo_id'])\n",
    "halo_run_cat2[:5]"
   ]
  },
  {
   "cell_type": "code",
   "execution_count": null,
   "id": "0ccde2d7-de21-4186-8948-7bcb3ca7fedf",
   "metadata": {},
   "outputs": [],
   "source": []
  },
  {
   "cell_type": "markdown",
   "id": "5f0a95db-e144-49f3-ba61-89c9ecdef49e",
   "metadata": {},
   "source": [
    "## Select halos from Gold that are used in Cardinal analysis\n",
    "\n",
    "This step is not necessary again."
   ]
  },
  {
   "cell_type": "code",
   "execution_count": 7,
   "id": "1d8c9000-a0ef-4233-b835-9032dc629b53",
   "metadata": {},
   "outputs": [],
   "source": [
    "import h5py\n",
    "with h5py.File('/bsuscratch/shuleicao/Cardinalv3/Cardinal-3_v2.0_Y6a_gold.h5','r') as f:\n",
    "    mvir = f['catalog/gold/m200'][:]\n",
    "    halo_id = f['catalog/gold/haloid'][:]\n",
    "    rhalo = f['catalog/gold/rhalo'][:]\n",
    "    mask = (rhalo == 0)&(mvir>0)\n",
    "    new_halo_id = halo_id[mask]\n",
    "    del mvir, rhalo, halo_id, mask"
   ]
  },
  {
   "cell_type": "code",
   "execution_count": 8,
   "id": "9a399713-d273-4b85-8f89-21203fbbd49c",
   "metadata": {},
   "outputs": [
    {
     "name": "stdout",
     "output_type": "stream",
     "text": [
      "8291\n"
     ]
    }
   ],
   "source": [
    "mask = np.isin(new_halo_id, cluster_halos_red[\"haloid\"])\n",
    "new_halo_id2 = new_halo_id[mask]\n",
    "print(len(new_halo_id2))"
   ]
  },
  {
   "cell_type": "code",
   "execution_count": 9,
   "id": "8aac8708-d273-478c-a36e-b16653ef8703",
   "metadata": {},
   "outputs": [
    {
     "name": "stdout",
     "output_type": "stream",
     "text": [
      "Length before cutting richness at 20 1318651\n",
      "Length after cutting richness at 20 8201\n"
     ]
    },
    {
     "data": {
      "text/html": [
       "<div><i>Table length=5</i>\n",
       "<table id=\"table140729584829488\" class=\"table-striped table-bordered table-condensed\">\n",
       "<thead><tr><th>haloid</th><th>Mvir</th><th>RA</th><th>DEC</th><th>Redshift</th><th>Rvir</th><th>cosi</th><th>pid</th><th>rs</th><th>M200m</th><th>R200m</th><th>rho</th><th>DeltaSigma</th><th>Sigma</th><th>gtall</th><th>weightall</th><th>ratio</th><th>delta</th><th>halo_id</th><th>id</th><th>m200</th><th>ra</th><th>dec</th><th>z</th><th>refmag</th><th>refmag_err</th><th>mag</th><th>mag_err</th><th>mem_match_id</th><th>lambda</th><th>lambda_e</th><th>z_lambda</th><th>z_lambda_e</th><th>cg_spec_z</th><th>z_spec_init</th><th>z_init</th><th>r_lambda</th><th>r_mask</th><th>scaleval</th><th>maskfrac</th><th>zred</th><th>zred_e</th><th>zred_chisq</th><th>chisq</th><th>z_lambda_niter</th><th>ebv_mean</th><th>lnlamlike</th><th>lncglike</th><th>lnlike</th><th>ra_orig</th><th>dec_orig</th><th>w</th><th>dlambda_dz</th><th>dlambda_dz2</th><th>dlambdavar_dz</th><th>dlambdavar_dz2</th><th>z_lambda_raw</th><th>z_lambda_e_raw</th><th>bkg_local</th><th>lim_exptime</th><th>lim_limmag</th><th>lim_limmag_hard</th><th>lambda_c</th><th>lambda_ce</th><th>ncent_good</th><th>maskgal_index</th><th>pzbins</th><th>pz</th><th>ra_cent</th><th>dec_cent</th><th>id_cent</th><th>lambda_cent</th><th>zlambda_cent</th><th>p_cen</th><th>q_cen</th><th>p_fg</th><th>q_miss</th><th>p_sat</th><th>p_c</th></tr></thead>\n",
       "<thead><tr><th>int32</th><th>float32</th><th>float64</th><th>float64</th><th>float64</th><th>float64</th><th>float64</th><th>int32</th><th>float64</th><th>float32</th><th>float64</th><th>float64[10]</th><th>float64[15]</th><th>float64[15]</th><th>float64[15]</th><th>float64[15]</th><th>float64[100]</th><th>float64[100]</th><th>int64</th><th>int64</th><th>float32</th><th>float64</th><th>float64</th><th>float32</th><th>float32</th><th>float32</th><th>float32[4]</th><th>float32[4]</th><th>int32</th><th>float32</th><th>float32</th><th>float32</th><th>float32</th><th>float32</th><th>float32</th><th>float32</th><th>float32</th><th>float32</th><th>float32</th><th>float32</th><th>float32</th><th>float32</th><th>float32</th><th>float32</th><th>int16</th><th>float32</th><th>float32</th><th>float32</th><th>float32</th><th>float64</th><th>float64</th><th>float32</th><th>float32</th><th>float32</th><th>float32</th><th>float32</th><th>float32</th><th>float32</th><th>float32</th><th>float32</th><th>float32</th><th>float32</th><th>float32</th><th>float32</th><th>int16</th><th>int16</th><th>float32[21]</th><th>float32[21]</th><th>float64[5]</th><th>float64[5]</th><th>int64[5]</th><th>float32[5]</th><th>float32[5]</th><th>float32[5]</th><th>float32[5]</th><th>float32[5]</th><th>float32</th><th>float32[5]</th><th>float32[5]</th></tr></thead>\n",
       "<tr><td>2583063</td><td>267400000000000.0</td><td>169.382</td><td>47.2833</td><td>0.310835</td><td>1.58106463878327</td><td>0.449461</td><td>-1</td><td>0.309073</td><td>277851100000000.0</td><td>1.61068</td><td>2919820191159664.0 .. 1043603577247.4805</td><td>-50.48811570718509 .. 2.0349627665933068</td><td>809.4886033557152 .. 8.841589325287124</td><td>2.970600369931629e-05 .. 0.7959358266897882</td><td>5.827664495263838e-07 .. 0.1665607820021916</td><td>8.14784788815788 .. 1.0</td><td>131.94855597616763 .. 0.0</td><td>2583063</td><td>87001073651</td><td>267400000000000.0</td><td>306.3130376896028</td><td>-45.68660434964616</td><td>0.31037349</td><td>16.965763</td><td>0.0054757674</td><td>19.369974 .. 16.965763</td><td>0.00831528 .. 0.0054757674</td><td>4225</td><td>26.761438</td><td>2.1556258</td><td>0.30325016</td><td>0.008422698</td><td>0.31037349</td><td>0.0</td><td>0.0</td><td>0.7682488</td><td>1.1523732</td><td>1.0118104</td><td>0.009429622</td><td>0.0</td><td>0.0</td><td>0.0</td><td>0.0</td><td>3</td><td>0.0</td><td>0.0</td><td>0.0</td><td>0.0</td><td>0.0</td><td>0.0</td><td>0.0</td><td>-3.0629818</td><td>1861.0948</td><td>-25.25452</td><td>776.4697</td><td>0.0</td><td>0.0</td><td>0.0</td><td>0.27865246</td><td>22.47364</td><td>23.33665</td><td>0.0</td><td>0.0</td><td>0</td><td>59</td><td>0.25470987 .. 0.35179046</td><td>1.8740894e-06 .. 5.453747e-06</td><td>0.0 .. 0.0</td><td>0.0 .. 0.0</td><td>0 .. 0</td><td>0.0 .. 0.0</td><td>0.0 .. 0.0</td><td>0.0 .. 0.0</td><td>0.0 .. 0.0</td><td>0.0 .. 0.0</td><td>0.0</td><td>0.0 .. 0.0</td><td>0.0 .. 0.0</td></tr>\n",
       "<tr><td>2865388</td><td>343800000000000.0</td><td>158.824</td><td>43.2032</td><td>0.292247</td><td>1.7386651958080528</td><td>0.645331</td><td>-1</td><td>0.435861</td><td>359562100000000.0</td><td>1.75518</td><td>3367498572924773.0 .. 1717217159636.3926</td><td>123.53569682144754 .. 0.49473433184016635</td><td>965.8212017127889 .. 17.479036763720586</td><td>-1.3404642168463923e-06 .. 0.07187618241787581</td><td>1.0009043415434238e-07 .. 0.08463139272147693</td><td>9.41972930181457 .. 1.0</td><td>147.95119272417446 .. 0.0</td><td>2865388</td><td>92000885484</td><td>343800000000000.0</td><td>315.6922106017438</td><td>-40.670825231321004</td><td>0.29410264</td><td>16.824503</td><td>0.0048866537</td><td>18.967258 .. 16.824503</td><td>0.0061681 .. 0.0048866537</td><td>1941</td><td>26.990263</td><td>3.1322796</td><td>0.28994408</td><td>0.008686038</td><td>0.29410264</td><td>0.0</td><td>0.0</td><td>0.76955813</td><td>1.1543372</td><td>1.0747478</td><td>0.06979927</td><td>0.0</td><td>0.0</td><td>0.0</td><td>0.0</td><td>1</td><td>0.0</td><td>0.0</td><td>0.0</td><td>0.0</td><td>0.0</td><td>0.0</td><td>0.0</td><td>2.0722835</td><td>-1464.4607</td><td>-40.15961</td><td>9412.771</td><td>0.0</td><td>0.0</td><td>0.0</td><td>0.2816006</td><td>22.485304</td><td>23.33665</td><td>0.0</td><td>0.0</td><td>0</td><td>24</td><td>0.23959486 .. 0.3402933</td><td>5.009185e-07 .. 4.7464146e-06</td><td>0.0 .. 0.0</td><td>0.0 .. 0.0</td><td>0 .. 0</td><td>0.0 .. 0.0</td><td>0.0 .. 0.0</td><td>0.0 .. 0.0</td><td>0.0 .. 0.0</td><td>0.0 .. 0.0</td><td>0.0</td><td>0.0 .. 0.0</td><td>0.0 .. 0.0</td></tr>\n",
       "<tr><td>2884407</td><td>64260000000000.0</td><td>158.114</td><td>44.0933</td><td>0.300503</td><td>0.9882900930487136</td><td>0.999976</td><td>-1</td><td>0.109878</td><td>68416270000000.0</td><td>1.00953</td><td>2129693143057493.0 .. 353317384307.76</td><td>210.8480662427967 .. 3.842788700210259</td><td>738.8460961575139 .. 15.079862440016033</td><td>1.155508248170654e-05 .. 0.33103654204867283</td><td>5.772558639540821e-07 .. 0.11808631150765907</td><td>13.091472794481415 .. 1.0219496867461229</td><td>82.52071066978911 .. 0.5359256079045507</td><td>2884407</td><td>92000885502</td><td>64260000000000.0</td><td>316.5122320351085</td><td>-41.491847866765625</td><td>0.30101183</td><td>17.411495</td><td>0.005674935</td><td>19.76384 .. 17.411495</td><td>0.008261976 .. 0.005674935</td><td>121081</td><td>21.544237</td><td>10.41607</td><td>0.31765813</td><td>0.008813919</td><td>0.30101183</td><td>0.0</td><td>0.0</td><td>0.7356415</td><td>1.1034622</td><td>2.0716536</td><td>0.5174514</td><td>0.0</td><td>0.0</td><td>0.0</td><td>0.0</td><td>4</td><td>0.0</td><td>0.0</td><td>0.0</td><td>0.0</td><td>0.0</td><td>0.0</td><td>0.0</td><td>-20.114618</td><td>-16334.609</td><td>-1343.628</td><td>-470208.9</td><td>0.0</td><td>0.0</td><td>0.0</td><td>0.3639164</td><td>22.769493</td><td>23.33665</td><td>0.0</td><td>0.0</td><td>0</td><td>89</td><td>0.2618493 .. 0.37346694</td><td>1.4350305e-08 .. 5.2544283e-06</td><td>0.0 .. 0.0</td><td>0.0 .. 0.0</td><td>0 .. 0</td><td>0.0 .. 0.0</td><td>0.0 .. 0.0</td><td>0.0 .. 0.0</td><td>0.0 .. 0.0</td><td>0.0 .. 0.0</td><td>0.0</td><td>0.0 .. 0.0</td><td>0.0 .. 0.0</td></tr>\n",
       "<tr><td>3317783</td><td>534300000000000.0</td><td>141.411</td><td>4.71059</td><td>0.27568</td><td>2.0379495798319325</td><td>0.870134</td><td>-1</td><td>0.379777</td><td>558280800000000.0</td><td>2.03247</td><td>3200949728886716.5 .. 2946685819334.8584</td><td>443.34808523277934 .. 3.9735201121490324</td><td>1481.0216433514106 .. 18.205408836215796</td><td>-5.8805146651502315e-06 .. 0.6681448579663274</td><td>1.9572889629850612e-07 .. 0.07378814296438617</td><td>11.294653775682676 .. 1.0</td><td>192.94379242043829 .. 0.0</td><td>3317783</td><td>427001018973</td><td>534300000000000.0</td><td>328.67296720085307</td><td>-0.9115215947241921</td><td>0.27657124</td><td>16.73287</td><td>0.0038654278</td><td>18.786032 .. 16.73287</td><td>0.005781372 .. 0.0038654278</td><td>435</td><td>31.780325</td><td>2.6555643</td><td>0.2687114</td><td>0.008641449</td><td>0.27657124</td><td>0.0</td><td>0.0</td><td>0.79511815</td><td>1.1926773</td><td>1.0060242</td><td>0.005167378</td><td>0.0</td><td>0.0</td><td>0.0</td><td>0.0</td><td>5</td><td>0.0</td><td>0.0</td><td>0.0</td><td>0.0</td><td>0.0</td><td>0.0</td><td>0.0</td><td>11.022035</td><td>-4562.5576</td><td>38.522194</td><td>-29859.533</td><td>0.0</td><td>0.0</td><td>0.0</td><td>0.35276982</td><td>22.735018</td><td>23.33665</td><td>0.0</td><td>0.0</td><td>0</td><td>27</td><td>0.21841095 .. 0.3190118</td><td>5.375012e-07 .. 5.3037334e-06</td><td>0.0 .. 0.0</td><td>0.0 .. 0.0</td><td>0 .. 0</td><td>0.0 .. 0.0</td><td>0.0 .. 0.0</td><td>0.0 .. 0.0</td><td>0.0 .. 0.0</td><td>0.0 .. 0.0</td><td>0.0</td><td>0.0 .. 0.0</td><td>0.0 .. 0.0</td></tr>\n",
       "<tr><td>3318557</td><td>70730000000000.0</td><td>141.358</td><td>4.02728</td><td>0.294808</td><td>1.0269729729729729</td><td>0.938582</td><td>-1</td><td>0.171595</td><td>77692480000000.0</td><td>1.05328</td><td>1699054755657070.0 .. 1165863144830.3997</td><td>79.04263761061945 .. 2.190359629651931</td><td>874.2520856172846 .. 19.7210737123784</td><td>-3.535862780891047e-05 .. 0.4616359041475175</td><td>4.3852606868464326e-07 .. 0.08457969719749359</td><td>15.519075516582419 .. 1.0</td><td>101.902115861443 .. 0.0</td><td>3318557</td><td>426000459249</td><td>70730000000000.0</td><td>328.6733753185936</td><td>-0.22635203198503007</td><td>0.29346317</td><td>18.111334</td><td>0.0075504608</td><td>20.411171 .. 18.111334</td><td>0.0134557085 .. 0.0075504608</td><td>100228</td><td>26.486849</td><td>2.4605126</td><td>0.2827194</td><td>0.008822624</td><td>0.29346317</td><td>0.0</td><td>0.0</td><td>0.76666576</td><td>1.1499987</td><td>1.0252874</td><td>0.023308441</td><td>0.0</td><td>0.0</td><td>0.0</td><td>0.0</td><td>4</td><td>0.0</td><td>0.0</td><td>0.0</td><td>0.0</td><td>0.0</td><td>0.0</td><td>0.0</td><td>6.1121063</td><td>-8870.235</td><td>190.70355</td><td>-99167.98</td><td>0.0</td><td>0.0</td><td>0.0</td><td>0.38702872</td><td>22.837732</td><td>23.33665</td><td>0.0</td><td>0.0</td><td>0</td><td>47</td><td>0.23212421 .. 0.3333146</td><td>8.119236e-07 .. 5.493397e-06</td><td>0.0 .. 0.0</td><td>0.0 .. 0.0</td><td>0 .. 0</td><td>0.0 .. 0.0</td><td>0.0 .. 0.0</td><td>0.0 .. 0.0</td><td>0.0 .. 0.0</td><td>0.0 .. 0.0</td><td>0.0</td><td>0.0 .. 0.0</td><td>0.0 .. 0.0</td></tr>\n",
       "</table></div>"
      ],
      "text/plain": [
       "<Table length=5>\n",
       " haloid        Mvir          RA     DEC   ...  q_miss   p_sat       p_c    \n",
       " int32       float32      float64 float64 ... float32 float32[5] float32[5]\n",
       "------- ----------------- ------- ------- ... ------- ---------- ----------\n",
       "2583063 267400000000000.0 169.382 47.2833 ...     0.0 0.0 .. 0.0 0.0 .. 0.0\n",
       "2865388 343800000000000.0 158.824 43.2032 ...     0.0 0.0 .. 0.0 0.0 .. 0.0\n",
       "2884407  64260000000000.0 158.114 44.0933 ...     0.0 0.0 .. 0.0 0.0 .. 0.0\n",
       "3317783 534300000000000.0 141.411 4.71059 ...     0.0 0.0 .. 0.0 0.0 .. 0.0\n",
       "3318557  70730000000000.0 141.358 4.02728 ...     0.0 0.0 .. 0.0 0.0 .. 0.0"
      ]
     },
     "execution_count": 9,
     "metadata": {},
     "output_type": "execute_result"
    }
   ],
   "source": [
    "mask2 = np.isin(cluster_halos_red[\"haloid\"], new_halo_id)\n",
    "len(mask2)\n",
    "halos_ds = cluster_halos_red[mask2]\n",
    "print(\"Length before cutting richness at 20\", len(cardinal_cat))\n",
    "print(\"Length after cutting richness at 20\", len(halos_ds))\n",
    "halos_ds[:5]"
   ]
  },
  {
   "cell_type": "markdown",
   "id": "ba67d891-9fd2-49d9-81c7-0db190b0c0cb",
   "metadata": {},
   "source": [
    "### Checking for sub-halos"
   ]
  },
  {
   "cell_type": "code",
   "execution_count": 10,
   "id": "574451f2-bf7b-4568-a110-865a18b96803",
   "metadata": {},
   "outputs": [
    {
     "name": "stdout",
     "output_type": "stream",
     "text": [
      "0\n"
     ]
    },
    {
     "data": {
      "text/html": [
       "<div><i>Table length=0</i>\n",
       "<table id=\"table140729587349776\" class=\"table-striped table-bordered table-condensed\">\n",
       "<thead><tr><th>haloid</th><th>Mvir</th><th>RA</th><th>DEC</th><th>Redshift</th><th>Rvir</th><th>cosi</th><th>pid</th><th>rs</th><th>M200m</th><th>R200m</th><th>rho</th><th>DeltaSigma</th><th>Sigma</th><th>gtall</th><th>weightall</th><th>ratio</th><th>delta</th><th>halo_id</th><th>id</th><th>m200</th><th>ra</th><th>dec</th><th>z</th><th>refmag</th><th>refmag_err</th><th>mag</th><th>mag_err</th><th>mem_match_id</th><th>lambda</th><th>lambda_e</th><th>z_lambda</th><th>z_lambda_e</th><th>cg_spec_z</th><th>z_spec_init</th><th>z_init</th><th>r_lambda</th><th>r_mask</th><th>scaleval</th><th>maskfrac</th><th>zred</th><th>zred_e</th><th>zred_chisq</th><th>chisq</th><th>z_lambda_niter</th><th>ebv_mean</th><th>lnlamlike</th><th>lncglike</th><th>lnlike</th><th>ra_orig</th><th>dec_orig</th><th>w</th><th>dlambda_dz</th><th>dlambda_dz2</th><th>dlambdavar_dz</th><th>dlambdavar_dz2</th><th>z_lambda_raw</th><th>z_lambda_e_raw</th><th>bkg_local</th><th>lim_exptime</th><th>lim_limmag</th><th>lim_limmag_hard</th><th>lambda_c</th><th>lambda_ce</th><th>ncent_good</th><th>maskgal_index</th><th>pzbins</th><th>pz</th><th>ra_cent</th><th>dec_cent</th><th>id_cent</th><th>lambda_cent</th><th>zlambda_cent</th><th>p_cen</th><th>q_cen</th><th>p_fg</th><th>q_miss</th><th>p_sat</th><th>p_c</th></tr></thead>\n",
       "<thead><tr><th>int32</th><th>float32</th><th>float64</th><th>float64</th><th>float64</th><th>float64</th><th>float64</th><th>int32</th><th>float64</th><th>float32</th><th>float64</th><th>float64[10]</th><th>float64[15]</th><th>float64[15]</th><th>float64[15]</th><th>float64[15]</th><th>float64[100]</th><th>float64[100]</th><th>int64</th><th>int64</th><th>float32</th><th>float64</th><th>float64</th><th>float32</th><th>float32</th><th>float32</th><th>float32[4]</th><th>float32[4]</th><th>int32</th><th>float32</th><th>float32</th><th>float32</th><th>float32</th><th>float32</th><th>float32</th><th>float32</th><th>float32</th><th>float32</th><th>float32</th><th>float32</th><th>float32</th><th>float32</th><th>float32</th><th>float32</th><th>int16</th><th>float32</th><th>float32</th><th>float32</th><th>float32</th><th>float64</th><th>float64</th><th>float32</th><th>float32</th><th>float32</th><th>float32</th><th>float32</th><th>float32</th><th>float32</th><th>float32</th><th>float32</th><th>float32</th><th>float32</th><th>float32</th><th>float32</th><th>int16</th><th>int16</th><th>float32[21]</th><th>float32[21]</th><th>float64[5]</th><th>float64[5]</th><th>int64[5]</th><th>float32[5]</th><th>float32[5]</th><th>float32[5]</th><th>float32[5]</th><th>float32[5]</th><th>float32</th><th>float32[5]</th><th>float32[5]</th></tr></thead>\n",
       "</table></div>"
      ],
      "text/plain": [
       "<Table length=0>\n",
       "haloid   Mvir     RA     DEC   ...    p_fg     q_miss   p_sat       p_c    \n",
       "int32  float32 float64 float64 ... float32[5] float32 float32[5] float32[5]\n",
       "------ ------- ------- ------- ... ---------- ------- ---------- ----------"
      ]
     },
     "execution_count": 10,
     "metadata": {},
     "output_type": "execute_result"
    }
   ],
   "source": [
    "sub_halos = halos_ds[halos_ds[\"pid\"] != -1]\n",
    "print(len(sub_halos))\n",
    "sub_halos #There are no sub-halos"
   ]
  },
  {
   "cell_type": "markdown",
   "id": "6f7fe5db-67f6-4e94-a7ba-3c2c7b362b3b",
   "metadata": {},
   "source": [
    "## Creating richness and redshift bins"
   ]
  },
  {
   "cell_type": "code",
   "execution_count": 11,
   "id": "5e6a60b9",
   "metadata": {
    "tags": []
   },
   "outputs": [
    {
     "name": "stdout",
     "output_type": "stream",
     "text": [
      "[15.243783 13.009876]\n",
      "[0.649994, 0.200128]\n",
      "[432.6658, 20.003485]\n"
     ]
    }
   ],
   "source": [
    "print(np.log10([halos_ds['Mvir'].max(),halos_ds['Mvir'].min()]))\n",
    "print([halos_ds['Redshift'].max(),halos_ds['Redshift'].min()])\n",
    "print([halos_ds['lambda'].max(),halos_ds['lambda'].min()])\n",
    "halos_ds['Mvir'] = np.log10(halos_ds['Mvir'])\n",
    "# halos_ds['cvir'] = halos_ds['Rvir']/halos_ds['rs']"
   ]
  },
  {
   "cell_type": "code",
   "execution_count": 12,
   "id": "fe0ca462",
   "metadata": {
    "tags": []
   },
   "outputs": [
    {
     "name": "stdout",
     "output_type": "stream",
     "text": [
      "redshift_range lambda_range haloid\n",
      "-------------- ------------ ------\n",
      "    [0.2,0.35)      [20,30)    527\n",
      "    [0.2,0.35)      [30,45)    132\n",
      "    [0.2,0.35)      [45,60)     28\n",
      "    [0.2,0.35)       [60,∞)     49\n",
      "   [0.35, 0.5)      [20,30)   2572\n",
      "   [0.35, 0.5)      [30,45)    763\n",
      "   [0.35, 0.5)      [45,60)    182\n",
      "   [0.35, 0.5)       [60,∞)    165\n",
      "   [0.5, 0.65)      [20,30)   2844\n",
      "   [0.5, 0.65)      [30,45)    687\n",
      "   [0.5, 0.65)      [45,60)    128\n",
      "   [0.5, 0.65)       [60,∞)    124\n"
     ]
    },
    {
     "data": {
      "text/html": [
       "<div><i>Table length=5</i>\n",
       "<table id=\"table140729573490752\" class=\"table-striped table-bordered table-condensed\">\n",
       "<thead><tr><th>haloid</th><th>Mvir</th><th>RA</th><th>DEC</th><th>Redshift</th><th>Rvir</th><th>cosi</th><th>pid</th><th>rs</th><th>M200m</th><th>R200m</th><th>rho</th><th>DeltaSigma</th><th>Sigma</th><th>gtall</th><th>weightall</th><th>ratio</th><th>delta</th><th>halo_id</th><th>id</th><th>m200</th><th>ra</th><th>dec</th><th>z</th><th>refmag</th><th>refmag_err</th><th>mag</th><th>mag_err</th><th>mem_match_id</th><th>lambda</th><th>lambda_e</th><th>z_lambda</th><th>z_lambda_e</th><th>cg_spec_z</th><th>z_spec_init</th><th>z_init</th><th>r_lambda</th><th>r_mask</th><th>scaleval</th><th>maskfrac</th><th>zred</th><th>zred_e</th><th>zred_chisq</th><th>chisq</th><th>z_lambda_niter</th><th>ebv_mean</th><th>lnlamlike</th><th>lncglike</th><th>lnlike</th><th>ra_orig</th><th>dec_orig</th><th>w</th><th>dlambda_dz</th><th>dlambda_dz2</th><th>dlambdavar_dz</th><th>dlambdavar_dz2</th><th>z_lambda_raw</th><th>z_lambda_e_raw</th><th>bkg_local</th><th>lim_exptime</th><th>lim_limmag</th><th>lim_limmag_hard</th><th>lambda_c</th><th>lambda_ce</th><th>ncent_good</th><th>maskgal_index</th><th>pzbins</th><th>pz</th><th>ra_cent</th><th>dec_cent</th><th>id_cent</th><th>lambda_cent</th><th>zlambda_cent</th><th>p_cen</th><th>q_cen</th><th>p_fg</th><th>q_miss</th><th>p_sat</th><th>p_c</th><th>redshift_range</th><th>lambda_range</th></tr></thead>\n",
       "<thead><tr><th>int32</th><th>float32</th><th>float64</th><th>float64</th><th>float64</th><th>float64</th><th>float64</th><th>int32</th><th>float64</th><th>float32</th><th>float64</th><th>float64[10]</th><th>float64[15]</th><th>float64[15]</th><th>float64[15]</th><th>float64[15]</th><th>float64[100]</th><th>float64[100]</th><th>int64</th><th>int64</th><th>float32</th><th>float64</th><th>float64</th><th>float32</th><th>float32</th><th>float32</th><th>float32[4]</th><th>float32[4]</th><th>int32</th><th>float32</th><th>float32</th><th>float32</th><th>float32</th><th>float32</th><th>float32</th><th>float32</th><th>float32</th><th>float32</th><th>float32</th><th>float32</th><th>float32</th><th>float32</th><th>float32</th><th>float32</th><th>int16</th><th>float32</th><th>float32</th><th>float32</th><th>float32</th><th>float64</th><th>float64</th><th>float32</th><th>float32</th><th>float32</th><th>float32</th><th>float32</th><th>float32</th><th>float32</th><th>float32</th><th>float32</th><th>float32</th><th>float32</th><th>float32</th><th>float32</th><th>int16</th><th>int16</th><th>float32[21]</th><th>float32[21]</th><th>float64[5]</th><th>float64[5]</th><th>int64[5]</th><th>float32[5]</th><th>float32[5]</th><th>float32[5]</th><th>float32[5]</th><th>float32[5]</th><th>float32</th><th>float32[5]</th><th>float32[5]</th><th>object</th><th>object</th></tr></thead>\n",
       "<tr><td>2583063</td><td>14.427161</td><td>169.382</td><td>47.2833</td><td>0.310835</td><td>1.58106463878327</td><td>0.449461</td><td>-1</td><td>0.309073</td><td>277851100000000.0</td><td>1.61068</td><td>2919820191159664.0 .. 1043603577247.4805</td><td>-50.48811570718509 .. 2.0349627665933068</td><td>809.4886033557152 .. 8.841589325287124</td><td>2.970600369931629e-05 .. 0.7959358266897882</td><td>5.827664495263838e-07 .. 0.1665607820021916</td><td>8.14784788815788 .. 1.0</td><td>131.94855597616763 .. 0.0</td><td>2583063</td><td>87001073651</td><td>267400000000000.0</td><td>306.3130376896028</td><td>-45.68660434964616</td><td>0.31037349</td><td>16.965763</td><td>0.0054757674</td><td>19.369974 .. 16.965763</td><td>0.00831528 .. 0.0054757674</td><td>4225</td><td>26.761438</td><td>2.1556258</td><td>0.30325016</td><td>0.008422698</td><td>0.31037349</td><td>0.0</td><td>0.0</td><td>0.7682488</td><td>1.1523732</td><td>1.0118104</td><td>0.009429622</td><td>0.0</td><td>0.0</td><td>0.0</td><td>0.0</td><td>3</td><td>0.0</td><td>0.0</td><td>0.0</td><td>0.0</td><td>0.0</td><td>0.0</td><td>0.0</td><td>-3.0629818</td><td>1861.0948</td><td>-25.25452</td><td>776.4697</td><td>0.0</td><td>0.0</td><td>0.0</td><td>0.27865246</td><td>22.47364</td><td>23.33665</td><td>0.0</td><td>0.0</td><td>0</td><td>59</td><td>0.25470987 .. 0.35179046</td><td>1.8740894e-06 .. 5.453747e-06</td><td>0.0 .. 0.0</td><td>0.0 .. 0.0</td><td>0 .. 0</td><td>0.0 .. 0.0</td><td>0.0 .. 0.0</td><td>0.0 .. 0.0</td><td>0.0 .. 0.0</td><td>0.0 .. 0.0</td><td>0.0</td><td>0.0 .. 0.0</td><td>0.0 .. 0.0</td><td>[0.2,0.35)</td><td>[20,30)</td></tr>\n",
       "<tr><td>2865388</td><td>14.536306</td><td>158.824</td><td>43.2032</td><td>0.292247</td><td>1.7386651958080528</td><td>0.645331</td><td>-1</td><td>0.435861</td><td>359562100000000.0</td><td>1.75518</td><td>3367498572924773.0 .. 1717217159636.3926</td><td>123.53569682144754 .. 0.49473433184016635</td><td>965.8212017127889 .. 17.479036763720586</td><td>-1.3404642168463923e-06 .. 0.07187618241787581</td><td>1.0009043415434238e-07 .. 0.08463139272147693</td><td>9.41972930181457 .. 1.0</td><td>147.95119272417446 .. 0.0</td><td>2865388</td><td>92000885484</td><td>343800000000000.0</td><td>315.6922106017438</td><td>-40.670825231321004</td><td>0.29410264</td><td>16.824503</td><td>0.0048866537</td><td>18.967258 .. 16.824503</td><td>0.0061681 .. 0.0048866537</td><td>1941</td><td>26.990263</td><td>3.1322796</td><td>0.28994408</td><td>0.008686038</td><td>0.29410264</td><td>0.0</td><td>0.0</td><td>0.76955813</td><td>1.1543372</td><td>1.0747478</td><td>0.06979927</td><td>0.0</td><td>0.0</td><td>0.0</td><td>0.0</td><td>1</td><td>0.0</td><td>0.0</td><td>0.0</td><td>0.0</td><td>0.0</td><td>0.0</td><td>0.0</td><td>2.0722835</td><td>-1464.4607</td><td>-40.15961</td><td>9412.771</td><td>0.0</td><td>0.0</td><td>0.0</td><td>0.2816006</td><td>22.485304</td><td>23.33665</td><td>0.0</td><td>0.0</td><td>0</td><td>24</td><td>0.23959486 .. 0.3402933</td><td>5.009185e-07 .. 4.7464146e-06</td><td>0.0 .. 0.0</td><td>0.0 .. 0.0</td><td>0 .. 0</td><td>0.0 .. 0.0</td><td>0.0 .. 0.0</td><td>0.0 .. 0.0</td><td>0.0 .. 0.0</td><td>0.0 .. 0.0</td><td>0.0</td><td>0.0 .. 0.0</td><td>0.0 .. 0.0</td><td>[0.2,0.35)</td><td>[20,30)</td></tr>\n",
       "<tr><td>2884407</td><td>13.807941</td><td>158.114</td><td>44.0933</td><td>0.300503</td><td>0.9882900930487136</td><td>0.999976</td><td>-1</td><td>0.109878</td><td>68416270000000.0</td><td>1.00953</td><td>2129693143057493.0 .. 353317384307.76</td><td>210.8480662427967 .. 3.842788700210259</td><td>738.8460961575139 .. 15.079862440016033</td><td>1.155508248170654e-05 .. 0.33103654204867283</td><td>5.772558639540821e-07 .. 0.11808631150765907</td><td>13.091472794481415 .. 1.0219496867461229</td><td>82.52071066978911 .. 0.5359256079045507</td><td>2884407</td><td>92000885502</td><td>64260000000000.0</td><td>316.5122320351085</td><td>-41.491847866765625</td><td>0.30101183</td><td>17.411495</td><td>0.005674935</td><td>19.76384 .. 17.411495</td><td>0.008261976 .. 0.005674935</td><td>121081</td><td>21.544237</td><td>10.41607</td><td>0.31765813</td><td>0.008813919</td><td>0.30101183</td><td>0.0</td><td>0.0</td><td>0.7356415</td><td>1.1034622</td><td>2.0716536</td><td>0.5174514</td><td>0.0</td><td>0.0</td><td>0.0</td><td>0.0</td><td>4</td><td>0.0</td><td>0.0</td><td>0.0</td><td>0.0</td><td>0.0</td><td>0.0</td><td>0.0</td><td>-20.114618</td><td>-16334.609</td><td>-1343.628</td><td>-470208.9</td><td>0.0</td><td>0.0</td><td>0.0</td><td>0.3639164</td><td>22.769493</td><td>23.33665</td><td>0.0</td><td>0.0</td><td>0</td><td>89</td><td>0.2618493 .. 0.37346694</td><td>1.4350305e-08 .. 5.2544283e-06</td><td>0.0 .. 0.0</td><td>0.0 .. 0.0</td><td>0 .. 0</td><td>0.0 .. 0.0</td><td>0.0 .. 0.0</td><td>0.0 .. 0.0</td><td>0.0 .. 0.0</td><td>0.0 .. 0.0</td><td>0.0</td><td>0.0 .. 0.0</td><td>0.0 .. 0.0</td><td>[0.2,0.35)</td><td>[20,30)</td></tr>\n",
       "<tr><td>3317783</td><td>14.727785</td><td>141.411</td><td>4.71059</td><td>0.27568</td><td>2.0379495798319325</td><td>0.870134</td><td>-1</td><td>0.379777</td><td>558280800000000.0</td><td>2.03247</td><td>3200949728886716.5 .. 2946685819334.8584</td><td>443.34808523277934 .. 3.9735201121490324</td><td>1481.0216433514106 .. 18.205408836215796</td><td>-5.8805146651502315e-06 .. 0.6681448579663274</td><td>1.9572889629850612e-07 .. 0.07378814296438617</td><td>11.294653775682676 .. 1.0</td><td>192.94379242043829 .. 0.0</td><td>3317783</td><td>427001018973</td><td>534300000000000.0</td><td>328.67296720085307</td><td>-0.9115215947241921</td><td>0.27657124</td><td>16.73287</td><td>0.0038654278</td><td>18.786032 .. 16.73287</td><td>0.005781372 .. 0.0038654278</td><td>435</td><td>31.780325</td><td>2.6555643</td><td>0.2687114</td><td>0.008641449</td><td>0.27657124</td><td>0.0</td><td>0.0</td><td>0.79511815</td><td>1.1926773</td><td>1.0060242</td><td>0.005167378</td><td>0.0</td><td>0.0</td><td>0.0</td><td>0.0</td><td>5</td><td>0.0</td><td>0.0</td><td>0.0</td><td>0.0</td><td>0.0</td><td>0.0</td><td>0.0</td><td>11.022035</td><td>-4562.5576</td><td>38.522194</td><td>-29859.533</td><td>0.0</td><td>0.0</td><td>0.0</td><td>0.35276982</td><td>22.735018</td><td>23.33665</td><td>0.0</td><td>0.0</td><td>0</td><td>27</td><td>0.21841095 .. 0.3190118</td><td>5.375012e-07 .. 5.3037334e-06</td><td>0.0 .. 0.0</td><td>0.0 .. 0.0</td><td>0 .. 0</td><td>0.0 .. 0.0</td><td>0.0 .. 0.0</td><td>0.0 .. 0.0</td><td>0.0 .. 0.0</td><td>0.0 .. 0.0</td><td>0.0</td><td>0.0 .. 0.0</td><td>0.0 .. 0.0</td><td>[0.2,0.35)</td><td>[30,45)</td></tr>\n",
       "<tr><td>3318557</td><td>13.849605</td><td>141.358</td><td>4.02728</td><td>0.294808</td><td>1.0269729729729729</td><td>0.938582</td><td>-1</td><td>0.171595</td><td>77692480000000.0</td><td>1.05328</td><td>1699054755657070.0 .. 1165863144830.3997</td><td>79.04263761061945 .. 2.190359629651931</td><td>874.2520856172846 .. 19.7210737123784</td><td>-3.535862780891047e-05 .. 0.4616359041475175</td><td>4.3852606868464326e-07 .. 0.08457969719749359</td><td>15.519075516582419 .. 1.0</td><td>101.902115861443 .. 0.0</td><td>3318557</td><td>426000459249</td><td>70730000000000.0</td><td>328.6733753185936</td><td>-0.22635203198503007</td><td>0.29346317</td><td>18.111334</td><td>0.0075504608</td><td>20.411171 .. 18.111334</td><td>0.0134557085 .. 0.0075504608</td><td>100228</td><td>26.486849</td><td>2.4605126</td><td>0.2827194</td><td>0.008822624</td><td>0.29346317</td><td>0.0</td><td>0.0</td><td>0.76666576</td><td>1.1499987</td><td>1.0252874</td><td>0.023308441</td><td>0.0</td><td>0.0</td><td>0.0</td><td>0.0</td><td>4</td><td>0.0</td><td>0.0</td><td>0.0</td><td>0.0</td><td>0.0</td><td>0.0</td><td>0.0</td><td>6.1121063</td><td>-8870.235</td><td>190.70355</td><td>-99167.98</td><td>0.0</td><td>0.0</td><td>0.0</td><td>0.38702872</td><td>22.837732</td><td>23.33665</td><td>0.0</td><td>0.0</td><td>0</td><td>47</td><td>0.23212421 .. 0.3333146</td><td>8.119236e-07 .. 5.493397e-06</td><td>0.0 .. 0.0</td><td>0.0 .. 0.0</td><td>0 .. 0</td><td>0.0 .. 0.0</td><td>0.0 .. 0.0</td><td>0.0 .. 0.0</td><td>0.0 .. 0.0</td><td>0.0 .. 0.0</td><td>0.0</td><td>0.0 .. 0.0</td><td>0.0 .. 0.0</td><td>[0.2,0.35)</td><td>[20,30)</td></tr>\n",
       "</table></div>"
      ],
      "text/plain": [
       "<Table length=5>\n",
       " haloid    Mvir      RA     DEC   ...    p_c     redshift_range lambda_range\n",
       " int32   float32  float64 float64 ... float32[5]     object        object   \n",
       "------- --------- ------- ------- ... ---------- -------------- ------------\n",
       "2583063 14.427161 169.382 47.2833 ... 0.0 .. 0.0     [0.2,0.35)      [20,30)\n",
       "2865388 14.536306 158.824 43.2032 ... 0.0 .. 0.0     [0.2,0.35)      [20,30)\n",
       "2884407 13.807941 158.114 44.0933 ... 0.0 .. 0.0     [0.2,0.35)      [20,30)\n",
       "3317783 14.727785 141.411 4.71059 ... 0.0 .. 0.0     [0.2,0.35)      [30,45)\n",
       "3318557 13.849605 141.358 4.02728 ... 0.0 .. 0.0     [0.2,0.35)      [20,30)"
      ]
     },
     "execution_count": 12,
     "metadata": {},
     "output_type": "execute_result"
    }
   ],
   "source": [
    "zranges = [(0.2,0.35), (0.35, 0.5), (0.5, 0.65)] #, \n",
    "# lamranges = [(13,13.5), (13.5,14), (14.5,15), (15,np.inf)]\n",
    "lamranges = [(20,30), (30,45), (45,60), (60,np.inf)]\n",
    "zlabels = ['[0.2,0.35)', '[0.35, 0.5)', '[0.5, 0.65)'] #, '(0.8,0.95]'\n",
    "# lamlabels = ['[13,13.5)', '[13.5,14)', '[14.5,15)', '[15,∞)']\n",
    "lamlabels = ['[20,30)', '[30,45)', '[45,60)', '[60,∞)']\n",
    "halos_ds['redshift_range'] = pd.cut(halos_ds['Redshift'], bins=[r[0] for r in zranges] + [zranges[-1][-1]], labels=zlabels)\n",
    "halos_ds['lambda_range'] = pd.cut(halos_ds['lambda'], bins=[r[0] for r in lamranges] + [lamranges[-1][-1]], labels=lamlabels)\n",
    "\n",
    "halos_ds['redshift_range'] = pd.Categorical(halos_ds['redshift_range'], categories=zlabels, ordered=True)\n",
    "halos_ds['lambda_range'] = pd.Categorical(halos_ds['lambda_range'], categories=lamlabels, ordered=True)\n",
    "\n",
    "grouped = halos_ds.group_by(['redshift_range', 'lambda_range'])\n",
    "cluster_counts = grouped.groups.aggregate(len)\n",
    "print(cluster_counts['redshift_range','lambda_range','haloid'])\n",
    "halos_ds[:5]"
   ]
  },
  {
   "cell_type": "code",
   "execution_count": 13,
   "id": "9e2ee55f",
   "metadata": {
    "tags": []
   },
   "outputs": [],
   "source": [
    "columns_to_mean = ['rho', 'DeltaSigma', 'Sigma'] \n",
    "rho = []\n",
    "DS = []\n",
    "sigma = []\n",
    "Mvir = []\n",
    "cvir = []\n",
    "Redshift = []\n",
    "Rvir = []\n",
    "rs = []\n",
    "richness = []"
   ]
  },
  {
   "cell_type": "code",
   "execution_count": 14,
   "id": "30cf69bb",
   "metadata": {
    "tags": []
   },
   "outputs": [],
   "source": [
    "for group in grouped.groups:\n",
    "    rho.append(np.mean(group['rho'], axis=0))\n",
    "    DS.append(np.mean(group['DeltaSigma'], axis=0))\n",
    "    sigma.append(np.mean(group['Sigma'], axis=0))\n",
    "    Mvir.append(np.mean(group['Mvir'], axis=0))\n",
    "    # cvir.append(np.mean(group['cvir'], axis=0))\n",
    "    Redshift.append(np.mean(group['Redshift'], axis=0))\n",
    "    Rvir.append(np.mean(group['Rvir'], axis=0))\n",
    "    rs.append(np.mean(group['rs'], axis=0))\n",
    "    richness.append(np.mean(group['lambda'], axis=0))"
   ]
  },
  {
   "cell_type": "code",
   "execution_count": 15,
   "id": "35dec005",
   "metadata": {
    "tags": []
   },
   "outputs": [],
   "source": [
    "count_mean = cluster_counts['redshift_range','lambda_range', 'haloid']\n",
    "count_mean['Mvir'] = Mvir\n",
    "# count_mean['cvir'] = cvir\n",
    "count_mean['cvir'] = np.array(Rvir)/np.array(rs)\n",
    "count_mean['Redshift'] = Redshift\n",
    "count_mean['lambda'] = richness\n",
    "count_mean['rho_mean'] = rho\n",
    "count_mean['DS_mean'] = DS\n",
    "count_mean['sigma_mean'] = sigma\n",
    "count_mean['Rvir_mean'] = Rvir\n",
    "count_mean['rs_mean'] = rs"
   ]
  },
  {
   "cell_type": "code",
   "execution_count": 16,
   "id": "a36aec39",
   "metadata": {
    "tags": []
   },
   "outputs": [
    {
     "data": {
      "text/html": [
       "<div><i>Table length=12</i>\n",
       "<table id=\"table140729573785024\" class=\"table-striped table-bordered table-condensed\">\n",
       "<thead><tr><th>redshift_range</th><th>lambda_range</th><th>halo_count</th><th>Mvir</th><th>cvir</th><th>Redshift</th><th>lambda</th><th>rho_mean</th><th>DS_mean</th><th>sigma_mean</th><th>Rvir_mean</th><th>rs_mean</th></tr></thead>\n",
       "<thead><tr><th>object</th><th>object</th><th>int64</th><th>float32</th><th>float64</th><th>float64</th><th>float32</th><th>float64[10]</th><th>float64[15]</th><th>float64[15]</th><th>float64</th><th>float64</th></tr></thead>\n",
       "<tr><td>[0.2,0.35)</td><td>[20,30)</td><td>527</td><td>14.256152</td><td>4.130135888692788</td><td>0.2970780420458355</td><td>23.48188</td><td>2025696608319645.5 .. 1487352332588.9116</td><td>64.43214840745591 .. 1.274437015716523</td><td>497.15835517196234 .. 8.35248984101689</td><td>494.81217160726067</td><td>119.80530058633775</td></tr>\n",
       "<tr><td>[0.2,0.35)</td><td>[30,45)</td><td>132</td><td>14.481987</td><td>4.435882669775707</td><td>0.2991529939737227</td><td>35.343403</td><td>2312471279466939.0 .. 2310000275143.064</td><td>96.32637985136489 .. 1.772421015365792</td><td>650.8986926054115 .. 8.527792738970128</td><td>599.9468688978312</td><td>135.2485882878788</td></tr>\n",
       "<tr><td>[0.2,0.35)</td><td>[45,60)</td><td>28</td><td>14.567497</td><td>4.558644150429514</td><td>0.28431276201750233</td><td>50.04542</td><td>3188113890292132.0 .. 2688336723331.634</td><td>105.5925154625651 .. 1.4392630777968907</td><td>798.7653612146389 .. 9.450560902437221</td><td>510.9361356988438</td><td>112.08072374999999</td></tr>\n",
       "<tr><td>[0.2,0.35)</td><td>[60,∞)</td><td>49</td><td>14.7768345</td><td>6.1549069979391495</td><td>0.287592304137053</td><td>93.02376</td><td>4426192334251622.0 .. 4558483814891.827</td><td>136.57019897636766 .. 2.049246675647998</td><td>1077.7474059846636 .. 10.28542612487304</td><td>559.5391191675183</td><td>90.90943524489794</td></tr>\n",
       "<tr><td>[0.35, 0.5)</td><td>[20,30)</td><td>2572</td><td>14.036441</td><td>3.881283001336679</td><td>0.4341746439163812</td><td>23.705675</td><td>1863615807879386.5 .. 1263605068309.9595</td><td>42.26968700905919 .. 1.3104215082671813</td><td>472.150735315319 .. 15.771647138720754</td><td>147.75350859065824</td><td>38.06821315007776</td></tr>\n",
       "<tr><td>[0.35, 0.5)</td><td>[30,45)</td><td>763</td><td>14.268896</td><td>4.243402019053453</td><td>0.435604698768492</td><td>35.46561</td><td>2299277030074116.5 .. 1810434066745.252</td><td>55.74934205294064 .. 1.7685636625056718</td><td>639.1339248917003 .. 16.38852312347822</td><td>163.84571899021708</td><td>38.611877511140236</td></tr>\n",
       "<tr><td>[0.35, 0.5)</td><td>[45,60)</td><td>182</td><td>14.446785</td><td>3.6487285377430814</td><td>0.4352598488887802</td><td>51.23738</td><td>2967456612316544.5 .. 2786681703336.037</td><td>58.10019725079432 .. 2.0657013941383346</td><td>774.5068079546207 .. 16.29111423137691</td><td>195.93372049542302</td><td>53.699177252747255</td></tr>\n",
       "<tr><td>[0.35, 0.5)</td><td>[60,∞)</td><td>165</td><td>14.660221</td><td>5.0437456067738795</td><td>0.4320669261800679</td><td>93.32823</td><td>4246524971689604.5 .. 4030464417406.323</td><td>88.73758999957542 .. 2.378665806691195</td><td>1098.775703542985 .. 15.750420021244997</td><td>239.0608089934224</td><td>47.39747553333333</td></tr>\n",
       "<tr><td>[0.5, 0.65)</td><td>[20,30)</td><td>2844</td><td>13.937834</td><td>3.4189626495054553</td><td>0.5786409757383967</td><td>23.575611</td><td>2135637771500529.2 .. 1427155847636.7803</td><td>42.456759962225036 .. 1.493349387251409</td><td>558.5898818699247 .. 21.90914441693969</td><td>0.9841689040208741</td><td>0.2878559975386779</td></tr>\n",
       "<tr><td>[0.5, 0.65)</td><td>[30,45)</td><td>687</td><td>14.18203</td><td>3.4854924415863024</td><td>0.5760585050946142</td><td>35.138725</td><td>2762782679777871.5 .. 2039752024365.2546</td><td>60.616590223467114 .. 2.0684832988993964</td><td>745.4018100236419 .. 21.778284806652106</td><td>1.1814606050169114</td><td>0.3389651892285298</td></tr>\n",
       "<tr><td>[0.5, 0.65)</td><td>[45,60)</td><td>128</td><td>14.409075</td><td>3.8652161772717606</td><td>0.577843640625</td><td>51.02185</td><td>3786462879991610.0 .. 2898936431301.151</td><td>80.08482979324572 .. 2.158180354341282</td><td>1025.3086940715316 .. 21.84376969091066</td><td>1.387261235332447</td><td>0.35890909375</td></tr>\n",
       "<tr><td>[0.5, 0.65)</td><td>[60,∞)</td><td>124</td><td>14.6157055</td><td>4.4513567493832955</td><td>0.5699892258064517</td><td>96.36375</td><td>5242362981562769.0 .. 4318659927356.904</td><td>113.95984374509155 .. 2.5122924639288025</td><td>1361.041524421664 .. 21.757267305451975</td><td>1.620626380304306</td><td>0.3640747016129032</td></tr>\n",
       "</table></div>"
      ],
      "text/plain": [
       "<Table length=12>\n",
       "redshift_range lambda_range halo_count ...     Rvir_mean           rs_mean      \n",
       "    object        object      int64    ...      float64            float64      \n",
       "-------------- ------------ ---------- ... ------------------ ------------------\n",
       "    [0.2,0.35)      [20,30)        527 ... 494.81217160726067 119.80530058633775\n",
       "    [0.2,0.35)      [30,45)        132 ...  599.9468688978312  135.2485882878788\n",
       "    [0.2,0.35)      [45,60)         28 ...  510.9361356988438 112.08072374999999\n",
       "    [0.2,0.35)       [60,∞)         49 ...  559.5391191675183  90.90943524489794\n",
       "   [0.35, 0.5)      [20,30)       2572 ... 147.75350859065824  38.06821315007776\n",
       "   [0.35, 0.5)      [30,45)        763 ... 163.84571899021708 38.611877511140236\n",
       "   [0.35, 0.5)      [45,60)        182 ... 195.93372049542302 53.699177252747255\n",
       "   [0.35, 0.5)       [60,∞)        165 ...  239.0608089934224  47.39747553333333\n",
       "   [0.5, 0.65)      [20,30)       2844 ... 0.9841689040208741 0.2878559975386779\n",
       "   [0.5, 0.65)      [30,45)        687 ... 1.1814606050169114 0.3389651892285298\n",
       "   [0.5, 0.65)      [45,60)        128 ...  1.387261235332447      0.35890909375\n",
       "   [0.5, 0.65)       [60,∞)        124 ...  1.620626380304306 0.3640747016129032"
      ]
     },
     "execution_count": 16,
     "metadata": {},
     "output_type": "execute_result"
    }
   ],
   "source": [
    "count_mean.rename_column('haloid','halo_count')\n",
    "count_mean#[:5]"
   ]
  },
  {
   "cell_type": "code",
   "execution_count": 17,
   "id": "d4587a25",
   "metadata": {
    "tags": []
   },
   "outputs": [],
   "source": [
    "# np.save(file_path+'stacked_DS_halo_run_updated.npy', count_mean)"
   ]
  },
  {
   "cell_type": "code",
   "execution_count": 18,
   "id": "8080f8f2",
   "metadata": {
    "tags": []
   },
   "outputs": [
    {
     "data": {
      "text/html": [
       "<div><i>Table length=12</i>\n",
       "<table id=\"table140729587371120\" class=\"table-striped table-bordered table-condensed\">\n",
       "<thead><tr><th>redshift_range</th><th>lambda_range</th><th>halo_count</th><th>Mvir</th><th>cvir</th><th>Redshift</th><th>lambda</th><th>rho_mean</th><th>DS_mean</th><th>sigma_mean</th><th>Rvir_mean</th><th>rs_mean</th></tr></thead>\n",
       "<thead><tr><th>object</th><th>object</th><th>int64</th><th>float32</th><th>float64</th><th>float64</th><th>float32</th><th>float64[10]</th><th>float64[15]</th><th>float64[15]</th><th>float64</th><th>float64</th></tr></thead>\n",
       "<tr><td>[0.2,0.35)</td><td>[20,30)</td><td>527</td><td>14.256152</td><td>4.130135888692788</td><td>0.2970780420458355</td><td>23.48188</td><td>2025696608319645.5 .. 1487352332588.9116</td><td>64.43214840745591 .. 1.274437015716523</td><td>497.15835517196234 .. 8.35248984101689</td><td>494.81217160726067</td><td>119.80530058633775</td></tr>\n",
       "<tr><td>[0.2,0.35)</td><td>[30,45)</td><td>132</td><td>14.481987</td><td>4.435882669775707</td><td>0.2991529939737227</td><td>35.343403</td><td>2312471279466939.0 .. 2310000275143.064</td><td>96.32637985136489 .. 1.772421015365792</td><td>650.8986926054115 .. 8.527792738970128</td><td>599.9468688978312</td><td>135.2485882878788</td></tr>\n",
       "<tr><td>[0.2,0.35)</td><td>[45,60)</td><td>28</td><td>14.567497</td><td>4.558644150429514</td><td>0.28431276201750233</td><td>50.04542</td><td>3188113890292132.0 .. 2688336723331.634</td><td>105.5925154625651 .. 1.4392630777968907</td><td>798.7653612146389 .. 9.450560902437221</td><td>510.9361356988438</td><td>112.08072374999999</td></tr>\n",
       "<tr><td>[0.2,0.35)</td><td>[60,∞)</td><td>49</td><td>14.7768345</td><td>6.1549069979391495</td><td>0.287592304137053</td><td>93.02376</td><td>4426192334251622.0 .. 4558483814891.827</td><td>136.57019897636766 .. 2.049246675647998</td><td>1077.7474059846636 .. 10.28542612487304</td><td>559.5391191675183</td><td>90.90943524489794</td></tr>\n",
       "<tr><td>[0.35, 0.5)</td><td>[20,30)</td><td>2572</td><td>14.036441</td><td>3.881283001336679</td><td>0.4341746439163812</td><td>23.705675</td><td>1863615807879386.5 .. 1263605068309.9595</td><td>42.26968700905919 .. 1.3104215082671813</td><td>472.150735315319 .. 15.771647138720754</td><td>147.75350859065824</td><td>38.06821315007776</td></tr>\n",
       "<tr><td>[0.35, 0.5)</td><td>[30,45)</td><td>763</td><td>14.268896</td><td>4.243402019053453</td><td>0.435604698768492</td><td>35.46561</td><td>2299277030074116.5 .. 1810434066745.252</td><td>55.74934205294064 .. 1.7685636625056718</td><td>639.1339248917003 .. 16.38852312347822</td><td>163.84571899021708</td><td>38.611877511140236</td></tr>\n",
       "<tr><td>[0.35, 0.5)</td><td>[45,60)</td><td>182</td><td>14.446785</td><td>3.6487285377430814</td><td>0.4352598488887802</td><td>51.23738</td><td>2967456612316544.5 .. 2786681703336.037</td><td>58.10019725079432 .. 2.0657013941383346</td><td>774.5068079546207 .. 16.29111423137691</td><td>195.93372049542302</td><td>53.699177252747255</td></tr>\n",
       "<tr><td>[0.35, 0.5)</td><td>[60,∞)</td><td>165</td><td>14.660221</td><td>5.0437456067738795</td><td>0.4320669261800679</td><td>93.32823</td><td>4246524971689604.5 .. 4030464417406.323</td><td>88.73758999957542 .. 2.378665806691195</td><td>1098.775703542985 .. 15.750420021244997</td><td>239.0608089934224</td><td>47.39747553333333</td></tr>\n",
       "<tr><td>[0.5, 0.65)</td><td>[20,30)</td><td>2844</td><td>13.937834</td><td>3.4189626495054553</td><td>0.5786409757383967</td><td>23.575611</td><td>2135637771500529.2 .. 1427155847636.7803</td><td>42.456759962225036 .. 1.493349387251409</td><td>558.5898818699247 .. 21.90914441693969</td><td>0.9841689040208741</td><td>0.2878559975386779</td></tr>\n",
       "<tr><td>[0.5, 0.65)</td><td>[30,45)</td><td>687</td><td>14.18203</td><td>3.4854924415863024</td><td>0.5760585050946142</td><td>35.138725</td><td>2762782679777871.5 .. 2039752024365.2546</td><td>60.616590223467114 .. 2.0684832988993964</td><td>745.4018100236419 .. 21.778284806652106</td><td>1.1814606050169114</td><td>0.3389651892285298</td></tr>\n",
       "<tr><td>[0.5, 0.65)</td><td>[45,60)</td><td>128</td><td>14.409075</td><td>3.8652161772717606</td><td>0.577843640625</td><td>51.02185</td><td>3786462879991610.0 .. 2898936431301.151</td><td>80.08482979324572 .. 2.158180354341282</td><td>1025.3086940715316 .. 21.84376969091066</td><td>1.387261235332447</td><td>0.35890909375</td></tr>\n",
       "<tr><td>[0.5, 0.65)</td><td>[60,∞)</td><td>124</td><td>14.6157055</td><td>4.4513567493832955</td><td>0.5699892258064517</td><td>96.36375</td><td>5242362981562769.0 .. 4318659927356.904</td><td>113.95984374509155 .. 2.5122924639288025</td><td>1361.041524421664 .. 21.757267305451975</td><td>1.620626380304306</td><td>0.3640747016129032</td></tr>\n",
       "</table></div>"
      ],
      "text/plain": [
       "<Table length=12>\n",
       "redshift_range lambda_range halo_count ...     Rvir_mean           rs_mean      \n",
       "    object        object      int64    ...      float64            float64      \n",
       "-------------- ------------ ---------- ... ------------------ ------------------\n",
       "    [0.2,0.35)      [20,30)        527 ... 494.81217160726067 119.80530058633775\n",
       "    [0.2,0.35)      [30,45)        132 ...  599.9468688978312  135.2485882878788\n",
       "    [0.2,0.35)      [45,60)         28 ...  510.9361356988438 112.08072374999999\n",
       "    [0.2,0.35)       [60,∞)         49 ...  559.5391191675183  90.90943524489794\n",
       "   [0.35, 0.5)      [20,30)       2572 ... 147.75350859065824  38.06821315007776\n",
       "   [0.35, 0.5)      [30,45)        763 ... 163.84571899021708 38.611877511140236\n",
       "   [0.35, 0.5)      [45,60)        182 ... 195.93372049542302 53.699177252747255\n",
       "   [0.35, 0.5)       [60,∞)        165 ...  239.0608089934224  47.39747553333333\n",
       "   [0.5, 0.65)      [20,30)       2844 ... 0.9841689040208741 0.2878559975386779\n",
       "   [0.5, 0.65)      [30,45)        687 ... 1.1814606050169114 0.3389651892285298\n",
       "   [0.5, 0.65)      [45,60)        128 ...  1.387261235332447      0.35890909375\n",
       "   [0.5, 0.65)       [60,∞)        124 ...  1.620626380304306 0.3640747016129032"
      ]
     },
     "execution_count": 18,
     "metadata": {},
     "output_type": "execute_result"
    }
   ],
   "source": [
    "Table(np.load(file_path+'stacked_DS_halo_run_updated.npy', allow_pickle=True))"
   ]
  },
  {
   "cell_type": "code",
   "execution_count": null,
   "id": "233d6872-a790-44aa-a94c-1da0af455f00",
   "metadata": {},
   "outputs": [],
   "source": []
  },
  {
   "cell_type": "code",
   "execution_count": null,
   "id": "e7bbe06e-a4ed-42ab-8075-a5db5f5b8f07",
   "metadata": {},
   "outputs": [],
   "source": []
  }
 ],
 "metadata": {
  "kernelspec": {
   "display_name": "mass_cal2",
   "language": "python",
   "name": "mass_cal"
  },
  "language_info": {
   "codemirror_mode": {
    "name": "ipython",
    "version": 3
   },
   "file_extension": ".py",
   "mimetype": "text/x-python",
   "name": "python",
   "nbconvert_exporter": "python",
   "pygments_lexer": "ipython3",
   "version": "3.8.18"
  }
 },
 "nbformat": 4,
 "nbformat_minor": 5
}
